{
 "cells": [
  {
   "cell_type": "markdown",
   "id": "fdc8edb6-1a61-4cda-a486-25ebf8a431f1",
   "metadata": {},
   "source": [
    "$$\n",
    "\\large \\textbf{Problema 01}\n",
    "$$"
   ]
  },
  {
   "cell_type": "markdown",
   "id": "de3e634f-3c54-406d-b612-128d3ea3c435",
   "metadata": {
    "tags": []
   },
   "source": [
    "Se tiene una placa cuadrada de aluminio cuyos bordes están en las condiciones que se indican en la figura: tres lados a temperaturas fijas y otro, el inferior, aislado térmicamente (flujo de calor igual a cero). Encuentre, utilizando el método de diferencias finitas, los valores de temperatura y flujo de calor para cada punto. Utilice primero la grilla señalada y luego generalice el problema a un número variable de nodos en cada eje de coordenadas. Haga un estudio del tiempo de cálculo en función del tamaño del sistema.\n",
    "<center><img src=\"ImgProb01.png\"></center>\n",
    "\n",
    "***"
   ]
  },
  {
   "cell_type": "code",
   "execution_count": 1,
   "id": "d3c87860-744d-4f36-a645-084d4947abd4",
   "metadata": {},
   "outputs": [],
   "source": [
    "import numpy as np                # Librería de álgebra lineal\n",
    "import matplotlib.pyplot as plt   # Librería de gráficos\n",
    "plt.rc('figure', figsize=(15,8))\n",
    "plt.rc('font', size=16)\n",
    "import time"
   ]
  },
  {
   "cell_type": "markdown",
   "id": "fc3ed904-f82c-493f-95b8-aa2d2ca8a523",
   "metadata": {},
   "source": [
    "La ecuación diferencial que rige el problema es la ecuación de Poison, que es la ecuación de transferencia térmica homogénea:\n",
    "\n",
    "$$\n",
    "\\frac{\\partial^2 T_{(x,y)}}{\\partial x^2}+\\frac{\\partial^2 T_{(x,y)}}{\\partial y^2}=0\n",
    "$$\n",
    "\n",
    "Debido a que los contornos del recinto donde debemos resolver la ecuación de Poison son los adecuados, se utiliza el método de diferencias finitas."
   ]
  },
  {
   "cell_type": "markdown",
   "id": "5405cbb7-321b-4e0a-8836-b27288d5f730",
   "metadata": {},
   "source": [
    "### Datos del problema\n",
    "La chapa tiene $N=N_xN_y$ nodos y las condiciones de contorno dadas por el problema."
   ]
  },
  {
   "cell_type": "code",
   "execution_count": 2,
   "id": "a0681665-30b1-439c-9f3a-c4cf9f21fe2c",
   "metadata": {},
   "outputs": [],
   "source": [
    "Nx = 100\n",
    "Ny = 100\n",
    "N = Nx*Ny\n",
    "\n",
    "CC = {'A':75, 'B':0, 'C':50, 'D':100}\n",
    "TipoCC = {'A':'Temp', 'B':'Heat', 'C':'Temp', 'D':'Temp'}"
   ]
  },
  {
   "cell_type": "markdown",
   "id": "90452260-2dce-43b2-a6a6-ace6902cf8a0",
   "metadata": {},
   "source": [
    "Es conveniente que la numeración de los nodos sea en función de un único índice $k$, de modo que las temperaturas puedan representarse en un vector $\\bar{T} = \\left( T_1,\\:T_2,\\:\\cdots,\\:T_N \\right)$. Contando de izquierda a derecha y de abajo a arriba, los vértices son:\n",
    "\n",
    "- Inferior izquierdo: $k=0$\n",
    "\n",
    "- Inferior derecho:   $k=N_x-1$\n",
    "- Superior derecho:   $k=N-1$\n",
    "- Superior izquierdo: $k=N-N_x$"
   ]
  },
  {
   "cell_type": "markdown",
   "id": "f16b36dd-ac8a-4ead-87f1-311cafa9d548",
   "metadata": {},
   "source": [
    "### Matricialización\n",
    "Según el método de diferencias fnitas, deben usarse las versiones discretas de las derivadas segundas en la ecuación de Poison:\n",
    "\n",
    "$$\n",
    "\\left. \\frac{\\partial^2 T}{\\partial x^2} \\right|_k = \\frac{T_{k+1}-2\\:T_k+T_{k-1}}{\\Delta x^2}\n",
    "\\:\\:\\:\\:\\:\\:\\:\\:\\:\\:\\:\\:\\:\\:\\:;\\:\\:\\:\\:\\:\\:\\:\\:\\:\\:\\:\\:\\:\\:\\:\n",
    "\\left. \\frac{\\partial^2 T}{\\partial y^2} \\right|_k = \\frac{T_{k+N_x}-2\\:T_k+T_{k-N_y}}{\\Delta y^2}\n",
    "$$\n",
    "\n",
    "de modo que, para el conjunto de nodos del interior de la chapa:\n",
    "\n",
    "$$\n",
    "\\frac{T_{k+1}-2\\:T_k+T_{k-1}}{\\Delta x^2} + \\frac{T_{k+N_x}-2\\:T_k+T_{k-N_x}}{\\Delta y^2} = 0\n",
    "$$\n",
    "\n",
    "$$\n",
    "\\beta^2\\:T_{k-N_x} + T_{k-1} - 2\\:(1+\\beta^2)\\:T_k + T_{k+1} + \\beta^2\\:T_{k+N_x} = 0\n",
    "$$\n",
    "\n",
    "donde se ha definido $\\beta = \\frac{\\Delta x}{\\Delta y}$.\n",
    "\n",
    "Para los nodos de los bordes se toman las condiciones de contorno dadas por el problema y, dado que los vértices perteneces a 2 bordes cada uno, se toma la temperatura del borde al que pertenece o bien el promedio entre la temperatura de 2 bordes, dependiendo de las condiciones de contorno."
   ]
  },
  {
   "cell_type": "code",
   "execution_count": 3,
   "id": "9b7d0744-9788-4b51-b878-47e63e011dd3",
   "metadata": {},
   "outputs": [],
   "source": [
    "class chapa:\n",
    "\n",
    "    def __init__(self, Nx=3, Ny=3):\n",
    "        self.Nx = Nx\n",
    "        self.Ny = Ny\n",
    "        self.N = Nx*Ny\n",
    "        self.beta = Nx/Ny\n",
    "\n",
    "    def makematrix(self, CC, TipoCC):\n",
    "        self.CC = CC\n",
    "        self.TipoCC = TipoCC\n",
    "        Nx = self.Nx\n",
    "        Ny = self.Ny\n",
    "        N = self.N\n",
    "        beta = self.beta\n",
    "        M = np.eye(N)\n",
    "        b = np.zeros([N, 1])\n",
    "        \n",
    "        for k in range(N):\n",
    "            \n",
    "            # Vértice inf. izq. (A-B)\n",
    "            if k==0:\n",
    "                if self.TipoCC['A']=='Temp' and self.TipoCC['B']=='Heat':\n",
    "                    b[k] = CC['A']\n",
    "                elif self.TipoCC['A']=='Heat' and self.TipoCC['B']=='Temp':\n",
    "                    b[k] = CC['B']\n",
    "                else:\n",
    "                    b[k] = (CC['A']+CC['B'])/2\n",
    "            \n",
    "            # Vértice inf. der. (B-C)\n",
    "            elif k==Nx-1:\n",
    "                if self.TipoCC['B']=='Temp' and self.TipoCC['C']=='Heat':\n",
    "                    b[k] = CC['B']\n",
    "                elif self.TipoCC['B']=='Heat' and self.TipoCC['C']=='Temp':\n",
    "                    b[k] = CC['C']\n",
    "                else:\n",
    "                    b[k] = (CC['B']+CC['C'])/2\n",
    "            \n",
    "            # Vértice sup. der. (C-D)\n",
    "            elif k==N-1:\n",
    "                if self.TipoCC['C']=='Temp' and self.TipoCC['D']=='Heat':\n",
    "                    b[k] = CC['C']\n",
    "                elif self.TipoCC['C']=='Heat' and self.TipoCC['D']=='Temp':\n",
    "                    b[k] = CC['D']\n",
    "                else:\n",
    "                    b[k] = (CC['C']+CC['D'])/2\n",
    "            \n",
    "            # Vértice sup. izq. (D-A)\n",
    "            elif k==N-Nx:\n",
    "                if self.TipoCC['D']=='Temp' and self.TipoCC['A']=='Heat':\n",
    "                    b[k] = CC['D']\n",
    "                elif self.TipoCC['D']=='Heat' and self.TipoCC['A']=='Temp':\n",
    "                    b[k] = CC['A']\n",
    "                else:\n",
    "                    b[k] = (CC['D']+CC['A'])/2\n",
    "            \n",
    "            # Borde izq. (A)\n",
    "            elif k%Nx==0:\n",
    "                if self.TipoCC['A']=='Temp':\n",
    "                    b[k] = CC['A']\n",
    "                elif self.TipoCC['A']=='Heat':\n",
    "                    M[k,k] = -2*(1+beta**2)\n",
    "                    M[k,k-1] = 1\n",
    "                    M[k,k+1] = 1\n",
    "                    M[k,k-Nx] = beta**2\n",
    "                    M[k,k+Nx] = beta**2\n",
    "            \n",
    "            # Borde inf. (B)\n",
    "            elif k<Nx-1:\n",
    "                if self.TipoCC['B']=='Temp':\n",
    "                    b[k] = CC['B']\n",
    "                elif self.TipoCC['B']=='Heat':\n",
    "                    M[k,k] = -2*(1+beta**2)\n",
    "                    M[k,k-1] = 1\n",
    "                    M[k,k+1] = 1\n",
    "                    M[k,k-Nx] = beta**2\n",
    "                    M[k,k+Nx] = beta**2\n",
    "            \n",
    "            # Borde der. (C)\n",
    "            elif (k+1)%Nx==0:\n",
    "                if self.TipoCC['C']=='Temp':\n",
    "                    b[k] = CC['C']\n",
    "                elif self.TipoCC['C']=='Heat':\n",
    "                    M[k,k] = -2*(1+beta**2)\n",
    "                    M[k,k-1] = 1\n",
    "                    M[k,k+1] = 1\n",
    "                    M[k,k-Nx] = beta**2\n",
    "                    M[k,k+Nx] = beta**2\n",
    "            \n",
    "            # Borde sup. (D)\n",
    "            elif k>Nx*(Ny-1)-1:\n",
    "                if self.TipoCC['D']=='Temp':\n",
    "                    b[k] = CC['D']\n",
    "                elif self.TipoCC['D']=='Heat':\n",
    "                    M[k,k] = -2*(1+beta**2)\n",
    "                    M[k,k-1] = 1\n",
    "                    M[k,k+1] = 1\n",
    "                    M[k,k-Nx] = beta**2\n",
    "                    M[k,k+Nx] = beta**2\n",
    "            \n",
    "            # Nodos internos\n",
    "            else:\n",
    "                M[k,k] = -2*(1+beta**2)\n",
    "                M[k,k-1] = 1\n",
    "                M[k,k+1] = 1\n",
    "                M[k,k-Nx] = beta**2\n",
    "                M[k,k+Nx] = beta**2\n",
    "        \n",
    "        self.M = M\n",
    "        self.b = b\n",
    "        return M, b"
   ]
  },
  {
   "cell_type": "code",
   "execution_count": 4,
   "id": "090fb2be-d5d4-459c-a91a-698e7d6b3441",
   "metadata": {},
   "outputs": [],
   "source": [
    "Chapa = chapa(Nx, Ny)\n",
    "M, b = Chapa.makematrix(CC, TipoCC)"
   ]
  },
  {
   "cell_type": "raw",
   "id": "06287358-c904-4719-a03b-736f79ce9aa0",
   "metadata": {},
   "source": [
    "# Gráfico de la matriz M; no tiene sentido para Nx, Ny grandes\n",
    "plt.imshow(M)\n",
    "plt.colorbar()\n",
    "plt.title('Matriz M')\n",
    "plt.xticks([])\n",
    "plt.yticks([])\n",
    "plt.show()"
   ]
  },
  {
   "cell_type": "markdown",
   "id": "255e495d-76bd-46f2-9043-f22e3a61e7ed",
   "metadata": {},
   "source": [
    "## Solución"
   ]
  },
  {
   "cell_type": "code",
   "execution_count": 5,
   "id": "910b1fae-b046-48c0-a59b-ae4efbbfc353",
   "metadata": {},
   "outputs": [],
   "source": [
    "T = np.linalg.solve(M, b)\n",
    "T_matriz = T.reshape(Nx, Ny)\n",
    "T_matriz = T_matriz[::-1]"
   ]
  },
  {
   "cell_type": "code",
   "execution_count": 6,
   "id": "5f7d23f3-7049-4d49-aa60-bbd6b97055ea",
   "metadata": {},
   "outputs": [
    {
     "data": {
      "image/png": "[encoded data removed]",
      "text/plain": [
       "<Figure size 1080x576 with 2 Axes>"
      ]
     },
     "metadata": {
      "needs_background": "light"
     },
     "output_type": "display_data"
    }
   ],
   "source": [
    "mapable = plt.imshow(T_matriz)\n",
    "plt.contourf(T_matriz)\n",
    "cbar = plt.colorbar(mapable)\n",
    "cbar.set_label('T(°C)')\n",
    "plt.title('Distribución de temperaturas de la chapa')\n",
    "plt.xticks([])\n",
    "plt.yticks([])\n",
    "plt.show()"
   ]
  },
  {
   "cell_type": "markdown",
   "id": "4777fb4f-6a34-4903-92a0-fca0e27dfca5",
   "metadata": {},
   "source": [
    "### Estudio del tiempo de cálculo"
   ]
  },
  {
   "cell_type": "code",
   "execution_count": null,
   "id": "a78db678-84f7-40e2-bc12-f5edcaffa24b",
   "metadata": {},
   "outputs": [],
   "source": []
  }
 ],
 "metadata": {
  "kernelspec": {
   "display_name": "Python 3 (ipykernel)",
   "language": "python",
   "name": "python3"
  },
  "language_info": {
   "codemirror_mode": {
    "name": "ipython",
    "version": 3
   },
   "file_extension": ".py",
   "mimetype": "text/x-python",
   "name": "python",
   "nbconvert_exporter": "python",
   "pygments_lexer": "ipython3",
   "version": "3.9.10"
  }
 },
 "nbformat": 4,
 "nbformat_minor": 5
}
