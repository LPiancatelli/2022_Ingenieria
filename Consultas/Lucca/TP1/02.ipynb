{
 "cells": [
  {
   "cell_type": "markdown",
   "id": "3525414c-2fc2-4b00-8184-2f7c6988549c",
   "metadata": {},
   "source": [
    "$$\n",
    "\\large \\textbf{Problema 02}\n",
    "$$"
   ]
  },
  {
   "cell_type": "markdown",
   "id": "de3e634f-3c54-406d-b612-128d3ea3c435",
   "metadata": {},
   "source": [
    "Se tiene una barra delgada de aluminio, originalmente a $0\\:°C$, cuyos extremos se someten repentinamente a temperaturas fijas. El extremo izquierdo se mantiene a una temperatura constante de $100\\:°C$ y el derecho a $50\\:°C$. Utilice los métodos explícito e implícito (Crank-Nicolson) de diferencias finitas para calcular la evolución de la distribución de temperaturas en función del tiempo. Tome que la barra tiene $10\\:cm$ de longitud y $k\\:=\\:0.835\\:\\frac{cm^2}{s}$ (aluminio). Haga los cálculos para $Δx\\:=\\:2\\:cm$ y $Δt\\:=\\:0.1\\:s$. Repítalos para $Δt\\:=\\:5\\:s$ y compare sus resultados. Analice el comportamiento de la solución para los distintos regímenes.\n",
    "***"
   ]
  },
  {
   "cell_type": "code",
   "execution_count": null,
   "id": "d3c87860-744d-4f36-a645-084d4947abd4",
   "metadata": {},
   "outputs": [],
   "source": [
    "import numpy as np                # Librería de álgebra lineal\n",
    "import matplotlib.pyplot as plt   # Librería de gráficos"
   ]
  },
  {
   "cell_type": "code",
   "execution_count": null,
   "id": "90fc078a-60f0-43f9-adf9-c54123f9e473",
   "metadata": {},
   "outputs": [],
   "source": []
  }
 ],
 "metadata": {
  "kernelspec": {
   "display_name": "Python 3 (ipykernel)",
   "language": "python",
   "name": "python3"
  },
  "language_info": {
   "codemirror_mode": {
    "name": "ipython",
    "version": 3
   },
   "file_extension": ".py",
   "mimetype": "text/x-python",
   "name": "python",
   "nbconvert_exporter": "python",
   "pygments_lexer": "ipython3",
   "version": "3.9.10"
  }
 },
 "nbformat": 4,
 "nbformat_minor": 5
}
