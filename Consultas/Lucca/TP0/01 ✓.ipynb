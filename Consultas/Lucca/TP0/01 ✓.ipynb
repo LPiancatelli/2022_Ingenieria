{
 "cells": [
  {
   "cell_type": "markdown",
   "id": "d03760ed-ed0e-4063-9216-bb4d8880d389",
   "metadata": {
    "tags": []
   },
   "source": [
    "$$\n",
    "\\large \\textbf{Problema 01}\n",
    "$$"
   ]
  },
  {
   "cell_type": "markdown",
   "id": "70f49188-519d-4a9f-9a31-4a310174b93c",
   "metadata": {},
   "source": [
    "Haga un programa que lea una serie de datos en un vector, que los ordene en forma ascendente y que tanto muestre el vector ordenado en pantalla como lo grabe en un archivo.\n",
    "***"
   ]
  },
  {
   "cell_type": "code",
   "execution_count": null,
   "id": "3d226108-4cd4-46a0-acb9-fdecdf533616",
   "metadata": {},
   "outputs": [],
   "source": [
    "import numpy as np                # Librería de álgebra lineal\n",
    "import matplotlib.pyplot as plt   # Librería de gráficos"
   ]
  },
  {
   "cell_type": "markdown",
   "id": "2333a3cc-0724-4e62-8e12-b32058796d04",
   "metadata": {},
   "source": [
    "### Ingreso del vector"
   ]
  },
  {
   "cell_type": "code",
   "execution_count": 2,
   "id": "cdf0b3ce-5323-430c-b62f-ffe243fa5ce0",
   "metadata": {},
   "outputs": [
    {
     "name": "stdin",
     "output_type": "stream",
     "text": [
      "Ingrese la cantidad de datos que desea cargar:  11\n",
      "Ingrese el dato:  1\n",
      "Ingrese el dato:  8\n",
      "Ingrese el dato:  9\n",
      "Ingrese el dato:  62.1\n",
      "Ingrese el dato:  62.2\n",
      "Ingrese el dato:  62\n",
      "Ingrese el dato:  4\n",
      "Ingrese el dato:  3\n",
      "Ingrese el dato:  2.95\n",
      "Ingrese el dato:  95\n",
      "Ingrese el dato:  0\n"
     ]
    },
    {
     "name": "stdout",
     "output_type": "stream",
     "text": [
      "El vector de datos ingresado es:    [1.0, 8.0, 9.0, 62.1, 62.2, 62.0, 4.0, 3.0, 2.95, 95.0, 0.0]\n"
     ]
    }
   ],
   "source": [
    "Q = int(input('Ingrese la cantidad de datos que desea cargar: '))\n",
    "\n",
    "v = []\n",
    "for i in range(Q):\n",
    "    v.append(float(input('Ingrese el dato: ')))\n",
    "\n",
    "print('El vector de datos ingresado es:   ', v)"
   ]
  },
  {
   "cell_type": "markdown",
   "id": "543dd400-bc79-4cbc-bdd5-d884f8243518",
   "metadata": {},
   "source": [
    "### Ordenamiento (burbuja)"
   ]
  },
  {
   "cell_type": "code",
   "execution_count": 3,
   "id": "7661285f-e5f8-445a-9aae-10ed3e2cef14",
   "metadata": {},
   "outputs": [
    {
     "name": "stdout",
     "output_type": "stream",
     "text": [
      "El vector de datos ordenado es:    [0.0, 1.0, 2.95, 3.0, 4.0, 8.0, 9.0, 62.0, 62.1, 62.2, 95.0]\n"
     ]
    }
   ],
   "source": [
    "for i in range(len(v), -1, -1):\n",
    "    for j in range(1,i):\n",
    "        if v[j-1] > v[j]:\n",
    "            aux = v[j-1]\n",
    "            v[j-1] = v[j]\n",
    "            v[j] = aux\n",
    "\n",
    "print('El vector de datos ordenado es:   ', v)"
   ]
  },
  {
   "cell_type": "markdown",
   "id": "4882a04e-0f6e-4836-a448-ae4ce2024866",
   "metadata": {},
   "source": [
    "### Documento"
   ]
  },
  {
   "cell_type": "code",
   "execution_count": 4,
   "id": "c4057922-da90-4959-bc31-e724d69d7f11",
   "metadata": {},
   "outputs": [
    {
     "name": "stdout",
     "output_type": "stream",
     "text": [
      "0.000000000000000000e+00\n",
      "1.000000000000000000e+00\n",
      "2.950000000000000178e+00\n",
      "3.000000000000000000e+00\n",
      "4.000000000000000000e+00\n",
      "8.000000000000000000e+00\n",
      "9.000000000000000000e+00\n",
      "6.200000000000000000e+01\n",
      "6.210000000000000142e+01\n",
      "6.220000000000000284e+01\n",
      "9.500000000000000000e+01\n",
      "\n"
     ]
    }
   ],
   "source": [
    "np.savetxt('Prob01_v.txt', v)\n",
    "print(open('Prob01_v.txt').read())"
   ]
  }
 ],
 "metadata": {
  "kernelspec": {
   "display_name": "Python 3 (ipykernel)",
   "language": "python",
   "name": "python3"
  },
  "language_info": {
   "codemirror_mode": {
    "name": "ipython",
    "version": 3
   },
   "file_extension": ".py",
   "mimetype": "text/x-python",
   "name": "python",
   "nbconvert_exporter": "python",
   "pygments_lexer": "ipython3",
   "version": "3.9.10"
  }
 },
 "nbformat": 4,
 "nbformat_minor": 5
}
