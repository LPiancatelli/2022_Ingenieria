{
 "cells": [
  {
   "cell_type": "markdown",
   "id": "46e3ca15-f46f-4cba-b893-bd04e7144680",
   "metadata": {},
   "source": [
    "$$\n",
    "\\large \\textbf{Problema 02}\n",
    "$$"
   ]
  },
  {
   "cell_type": "markdown",
   "id": "b58f2a31-6278-469d-a87b-6c7f7f8a2bff",
   "metadata": {},
   "source": [
    "La función exponencial se puede calcular como la serie:"
   ]
  },
  {
   "cell_type": "markdown",
   "id": "c25d9702-3a1c-4863-8d7b-ba5d42e6d1cc",
   "metadata": {},
   "source": [
    "$$\n",
    "e^x=1+x+\\frac{x^2}{2}+\\frac{x^3}{3!}+\\frac{x^4}{4!}+\\cdots+\\frac{x^n}{n!}\n",
    "$$"
   ]
  },
  {
   "cell_type": "markdown",
   "id": "97047b90-5658-4f26-95ee-458590b6a752",
   "metadata": {},
   "source": [
    "Evalúe la serie para calcular $e^{0.5}$, agregando sucesivos términos hasta asegurarse al menos 3 cifras significativas correctas. Comparar con el valor $1.64872127…$\\\n",
    "Analice los resultados.\n",
    "***"
   ]
  },
  {
   "cell_type": "code",
   "execution_count": 1,
   "id": "763622f4-903a-40c5-b400-bed31a5b49bd",
   "metadata": {
    "tags": []
   },
   "outputs": [],
   "source": [
    "import numpy as np                # Librería de álgebra lineal\n",
    "import matplotlib.pyplot as plt   # Librería de gráficos\n",
    "import math"
   ]
  },
  {
   "cell_type": "markdown",
   "id": "533095d2-827c-4b95-b82c-cf0ef5f3fa7a",
   "metadata": {},
   "source": [
    "### Datos"
   ]
  },
  {
   "cell_type": "code",
   "execution_count": 2,
   "id": "ebfc75f5-ee39-4d1f-80d4-0a3614ceb1ba",
   "metadata": {},
   "outputs": [
    {
     "data": {
      "text/plain": [
       "1.6487212707001282"
      ]
     },
     "execution_count": 2,
     "metadata": {},
     "output_type": "execute_result"
    }
   ],
   "source": [
    "x = 0.5\n",
    "yReal = np.exp(x)\n",
    "yReal"
   ]
  },
  {
   "cell_type": "markdown",
   "id": "31cdee60-6f65-4e74-8ab0-4cf88925d178",
   "metadata": {},
   "source": [
    "### Función exponencial"
   ]
  },
  {
   "cell_type": "code",
   "execution_count": 3,
   "id": "ef291dfd-8b55-4a5d-8b03-778b90cc07b7",
   "metadata": {},
   "outputs": [
    {
     "name": "stdout",
     "output_type": "stream",
     "text": [
      "1.6484375\n"
     ]
    }
   ],
   "source": [
    "y = 1\n",
    "k = 1\n",
    "dy = np.abs(y-yReal)\n",
    "while dy>0.001:\n",
    "    y += x**k/math.factorial(k)\n",
    "    k += 1\n",
    "    dy = np.abs(y-yReal)\n",
    "\n",
    "print(y)"
   ]
  },
  {
   "cell_type": "code",
   "execution_count": null,
   "id": "92e34494-37a8-4939-b8fb-aa5d003bae8c",
   "metadata": {},
   "outputs": [],
   "source": []
  }
 ],
 "metadata": {
  "kernelspec": {
   "display_name": "Python 3 (ipykernel)",
   "language": "python",
   "name": "python3"
  },
  "language_info": {
   "codemirror_mode": {
    "name": "ipython",
    "version": 3
   },
   "file_extension": ".py",
   "mimetype": "text/x-python",
   "name": "python",
   "nbconvert_exporter": "python",
   "pygments_lexer": "ipython3",
   "version": "3.9.10"
  }
 },
 "nbformat": 4,
 "nbformat_minor": 5
}
