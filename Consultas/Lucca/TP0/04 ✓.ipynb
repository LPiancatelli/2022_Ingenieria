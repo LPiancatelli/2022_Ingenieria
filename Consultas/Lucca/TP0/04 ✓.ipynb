{
 "cells": [
  {
   "cell_type": "markdown",
   "id": "46e3ca15-f46f-4cba-b893-bd04e7144680",
   "metadata": {},
   "source": [
    "$$\n",
    "\\large \\textbf{Problema 04}\n",
    "$$"
   ]
  },
  {
   "cell_type": "markdown",
   "id": "b58f2a31-6278-469d-a87b-6c7f7f8a2bff",
   "metadata": {},
   "source": [
    "Encuentre la solución al sistema $[A] \\bullet \\{x\\} = \\{b\\}$ correspondiente el siguiente sistema de ecuaciones:"
   ]
  },
  {
   "cell_type": "markdown",
   "id": "c25d9702-3a1c-4863-8d7b-ba5d42e6d1cc",
   "metadata": {},
   "source": [
    "$$\n",
    "\\left\\{\n",
    "\\begin{array}{rcl}\n",
    "     x-3y-2z & = & 6\n",
    "  \\\\ 2x-4y-3z & = & 8\n",
    "  \\\\ -3x+6y+8z & = & -5\n",
    "\\end{array}\n",
    "\\right.\n",
    "$$"
   ]
  },
  {
   "cell_type": "markdown",
   "id": "56fa48aa-b164-40e1-8226-aed4e7d5f13d",
   "metadata": {},
   "source": [
    "***"
   ]
  },
  {
   "cell_type": "code",
   "execution_count": 1,
   "id": "79a29c59-07b4-4c21-ae6a-6ae6a20c3c9a",
   "metadata": {
    "tags": []
   },
   "outputs": [],
   "source": [
    "import numpy as np                # Librería de álgebra lineal\n",
    "import matplotlib.pyplot as plt   # Librería de gráficos"
   ]
  },
  {
   "cell_type": "markdown",
   "id": "7b2d4e43-3465-4a34-aba9-676d4def4ccd",
   "metadata": {},
   "source": [
    "### Ingreso de datos"
   ]
  },
  {
   "cell_type": "code",
   "execution_count": 2,
   "id": "fb18dfc0-0c93-45ba-a7bb-9bf1b7c3ed13",
   "metadata": {},
   "outputs": [],
   "source": [
    "A = np.array([[1, -3, -2],[2, -4, -3],[-3, 6, 8]])\n",
    "b = np.array([[6],[8],[-5]])"
   ]
  },
  {
   "cell_type": "markdown",
   "id": "0fefaace-4478-4c13-80ad-e89ca2a0cf85",
   "metadata": {},
   "source": [
    "### Resolución"
   ]
  },
  {
   "cell_type": "code",
   "execution_count": 3,
   "id": "580eb4c6-e39c-4ae8-be01-ac522b70ba9e",
   "metadata": {},
   "outputs": [
    {
     "data": {
      "text/plain": [
       "array([[ 1.],\n",
       "       [-3.],\n",
       "       [ 2.]])"
      ]
     },
     "execution_count": 3,
     "metadata": {},
     "output_type": "execute_result"
    }
   ],
   "source": [
    "x = np.linalg.solve(A,b)\n",
    "x"
   ]
  },
  {
   "cell_type": "markdown",
   "id": "4fac80b2-b02b-4fa8-b759-0bbc24e7fb1b",
   "metadata": {},
   "source": [
    "### Verificación"
   ]
  },
  {
   "cell_type": "code",
   "execution_count": 4,
   "id": "0576e9da-4d23-4168-9f4f-363d55524cae",
   "metadata": {},
   "outputs": [
    {
     "data": {
      "text/plain": [
       "array([[ True],\n",
       "       [ True],\n",
       "       [ True]])"
      ]
     },
     "execution_count": 4,
     "metadata": {},
     "output_type": "execute_result"
    }
   ],
   "source": [
    "B=A.dot(x)\n",
    "B==b"
   ]
  }
 ],
 "metadata": {
  "kernelspec": {
   "display_name": "Python 3 (ipykernel)",
   "language": "python",
   "name": "python3"
  },
  "language_info": {
   "codemirror_mode": {
    "name": "ipython",
    "version": 3
   },
   "file_extension": ".py",
   "mimetype": "text/x-python",
   "name": "python",
   "nbconvert_exporter": "python",
   "pygments_lexer": "ipython3",
   "version": "3.9.10"
  }
 },
 "nbformat": 4,
 "nbformat_minor": 5
}
