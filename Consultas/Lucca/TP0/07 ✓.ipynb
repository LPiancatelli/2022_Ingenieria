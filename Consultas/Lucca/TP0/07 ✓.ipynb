{
 "cells": [
  {
   "cell_type": "markdown",
   "id": "46e3ca15-f46f-4cba-b893-bd04e7144680",
   "metadata": {},
   "source": [
    "$$\n",
    "\\large \\textbf{Problema 07}\n",
    "$$"
   ]
  },
  {
   "cell_type": "markdown",
   "id": "b58f2a31-6278-469d-a87b-6c7f7f8a2bff",
   "metadata": {},
   "source": [
    "La fuerza efectiva que realiza el viento sobre el mástil de un bote de velas puede aproximarse por la siguiente expresión:"
   ]
  },
  {
   "cell_type": "markdown",
   "id": "c25d9702-3a1c-4863-8d7b-ba5d42e6d1cc",
   "metadata": {},
   "source": [
    "$$\n",
    "F=\\int_{0}^{30} 200\\:\\left(\\frac{z}{5+z}\\right)\\:e^{-2z/30}\\:dz\n",
    "$$"
   ]
  },
  {
   "cell_type": "markdown",
   "id": "97047b90-5658-4f26-95ee-458590b6a752",
   "metadata": {},
   "source": [
    "donde $F$ está dada en $lb$ y las distancias en $ft$. Estime, utilizando los métodos de trapecios, de Simpson 1/3 y cuadraturas de Gauss, cuánto vale la fuerza total y dónde será el punto de acción efectiva de esta fuerza:"
   ]
  },
  {
   "cell_type": "markdown",
   "id": "61cc878f-61a8-4bf4-aae1-c27116a9e663",
   "metadata": {},
   "source": [
    "$$\n",
    "d=\\int_{0}^{30} z\\:f(z)\\:dz\n",
    "$$"
   ]
  },
  {
   "cell_type": "markdown",
   "id": "a1f44d58-4127-47e6-a73b-3143e24cd5f3",
   "metadata": {},
   "source": [
    "Utilice varios tamaños de paso de integración, entre $5$ y $0.05\\:ft$, y estudie la convergencia de cada método.\n",
    "***"
   ]
  },
  {
   "cell_type": "code",
   "execution_count": 1,
   "id": "3fca8c65-8872-4b2a-9d0e-e30d9c2ceaa8",
   "metadata": {
    "tags": []
   },
   "outputs": [],
   "source": [
    "import numpy as np                # Librería de álgebra lineal\n",
    "import matplotlib.pyplot as plt   # Librería de gráficos\n",
    "plt.rc('figure', figsize=(9,6))\n",
    "plt.rc('font', size=14)"
   ]
  },
  {
   "cell_type": "markdown",
   "id": "93f22ca7-56b3-4bcd-81db-69bd224db210",
   "metadata": {},
   "source": [
    "### Datos del problema"
   ]
  },
  {
   "cell_type": "code",
   "execution_count": 2,
   "id": "4a990ce6-8deb-4f22-b59f-d6f9aa86d096",
   "metadata": {},
   "outputs": [],
   "source": [
    "z0 = 0    # ft\n",
    "zf = 30   # ft\n",
    "h = 0.05  # ft\n",
    "\n",
    "def f(z):\n",
    "    return 200*z/(5+z)*np.exp(-2*z/30)"
   ]
  },
  {
   "cell_type": "markdown",
   "id": "b8e96aac-4dad-47e0-afb5-cdc6e702fcf4",
   "metadata": {},
   "source": [
    "### Trapecios"
   ]
  },
  {
   "cell_type": "code",
   "execution_count": 3,
   "id": "61293baf-e093-46b0-a91d-fc5d08d808d7",
   "metadata": {},
   "outputs": [],
   "source": [
    "def Trap(h, f=f, z0=0, zf=30):\n",
    "    p = round((zf-z0)/h)\n",
    "    z = np.linspace(z0, zf, p)\n",
    "    \n",
    "    suma = (f(z0)+f(zf))/2\n",
    "    for i in range(1,p-1):\n",
    "        suma += f(z[i])\n",
    "    F = (zf-z0)/p*suma\n",
    "    \n",
    "    return F"
   ]
  },
  {
   "cell_type": "code",
   "execution_count": 4,
   "id": "a6a044a0-595a-4b10-a171-423c6dba5406",
   "metadata": {},
   "outputs": [
    {
     "name": "stdout",
     "output_type": "stream",
     "text": [
      "Paso: 0.05 ft\n",
      "  -  La fuerza total es 1478.0922191131897 lb\n",
      "  -  El punto de acción efectiva es 13.053771931230958 ft\n"
     ]
    }
   ],
   "source": [
    "FTrap = Trap(h)\n",
    "D = lambda z: (1/FTrap)*z*200*(z/(5+z))*np.exp((-2*z)/30)\n",
    "dTrap = Trap(h, D)\n",
    "\n",
    "print('Paso:', h, 'ft')\n",
    "print('  -  La fuerza total es', FTrap, 'lb')\n",
    "print('  -  El punto de acción efectiva es', dTrap, 'ft')"
   ]
  },
  {
   "cell_type": "markdown",
   "id": "8b235fbd-0295-4c73-96a3-8455363c684e",
   "metadata": {},
   "source": [
    "### Simpson 1/3"
   ]
  },
  {
   "cell_type": "code",
   "execution_count": 5,
   "id": "0324bfb9-fc88-40d5-afca-581d1a8aacf8",
   "metadata": {},
   "outputs": [],
   "source": [
    "def Simp(h, f=f, z0=0, zf=30):\n",
    "    p = round((zf-z0)/h)\n",
    "#    if p%2==0:\n",
    "#        return(print('Error: El metodo requiere una cantidad de pasos impar'))\n",
    "    z = np.linspace(z0, zf, p)\n",
    "    \n",
    "    suma = f(z0)+f(zf)\n",
    "    for i in range(1,p-1):\n",
    "        if i%2==0:\n",
    "            suma += 4*f(z[i])\n",
    "        else:\n",
    "            suma += 2*f(z[i])\n",
    "    F = (zf-z0)/(3*(p-1))*suma\n",
    "    \n",
    "    return F"
   ]
  },
  {
   "cell_type": "code",
   "execution_count": 6,
   "id": "bae9e7ef-ed96-43d3-acd8-c1d9d3a2aaa5",
   "metadata": {},
   "outputs": [
    {
     "name": "stdout",
     "output_type": "stream",
     "text": [
      "Paso: 0.05 ft\n",
      "  -  La fuerza total es 1480.5517584233303 lb\n",
      "  -  El punto de acción efectiva es 13.032086593296768 ft\n"
     ]
    }
   ],
   "source": [
    "FSimp = Simp(h)\n",
    "D = lambda z: (1/FSimp)*z*200*(z/(5+z))*np.exp((-2*z)/30)\n",
    "dSimp = Trap(h, D)\n",
    "\n",
    "print('Paso:', h, 'ft')\n",
    "print('  -  La fuerza total es', FSimp, 'lb')\n",
    "print('  -  El punto de acción efectiva es', dSimp, 'ft')"
   ]
  },
  {
   "cell_type": "markdown",
   "id": "e3211c9f-86c3-4c92-bb25-81469b31f6da",
   "metadata": {},
   "source": [
    "### Cuadraturas de Gauss"
   ]
  },
  {
   "cell_type": "code",
   "execution_count": 7,
   "id": "119d6e66-ae4e-4cba-a7f4-e2394ffa45fa",
   "metadata": {},
   "outputs": [],
   "source": [
    "# N° puntos: 1\n",
    "wi1 = [2]\n",
    "ti1 = [0]\n",
    "\n",
    "# N° puntos: 2\n",
    "wi2 = [1, 1]\n",
    "ti2 = [-1/np.sqrt(3), 1/np.sqrt(3)]\n",
    "\n",
    "# N° puntos: 3\n",
    "wi3 = [8/9, 5/9, 5/9]\n",
    "ti3 = [0, np.sqrt(3/5), -np.sqrt(3/5)]\n",
    "\n",
    "# N° puntos: 4\n",
    "wi4 = [(18+np.sqrt(30))/36, (18+np.sqrt(30))/36, (18-np.sqrt(30))/36, (18-np.sqrt(30))/36]\n",
    "ti4 = [np.sqrt(3/7-2/7*np.sqrt(6/5)), -np.sqrt(3/7-2/7*np.sqrt(6/5)), np.sqrt(3/7+2/7*np.sqrt(6/5)), -np.sqrt(3/7+2/7*np.sqrt(6/5))]\n",
    "\n",
    "# N° puntos: 5\n",
    "wi5 = [128/255, (322+13*np.sqrt(70))/900, (322+13*np.sqrt(70))/900, (322-13*np.sqrt(70))/900, (322-13*np.sqrt(70))/900]\n",
    "ti5 = [0, (1/3)*np.sqrt(5-2*np.sqrt(10/7)), -(1/3)*np.sqrt(5-2*np.sqrt(10/7)), (1/3)*np.sqrt(5+2*np.sqrt(10/7)), -(1/3)*np.sqrt(5+2*np.sqrt(10/7))]"
   ]
  },
  {
   "cell_type": "code",
   "execution_count": 8,
   "id": "a96a2564-ed8c-4b15-8da8-7bb13cde72f9",
   "metadata": {},
   "outputs": [],
   "source": [
    "def Gaus(wi, ti, f=f, z0=0, zf=30):\n",
    "    n = len(wi)\n",
    "    m = (zf-z0)/2\n",
    "    b = (z0+zf)/2\n",
    "    suma = 0\n",
    "    h = lambda z: m*z+b\n",
    "    for i in range(len(wi)):\n",
    "        suma += wi[i]*f(m*ti[i]+b)\n",
    "    F = suma*m\n",
    "    return F, n"
   ]
  },
  {
   "cell_type": "code",
   "execution_count": 9,
   "id": "c50a2557-4552-4bfa-a5eb-1ec06b258bb9",
   "metadata": {},
   "outputs": [
    {
     "name": "stdout",
     "output_type": "stream",
     "text": [
      "N° puntos: 2\n",
      "  -  La fuerza total es 1610.5722652945797 lb\n",
      "  -  El punto de acción efectiva es 11.840301015775184 ft\n"
     ]
    }
   ],
   "source": [
    "FGaus, nGaus = Gaus(wi2, ti2)\n",
    "D = lambda z: (1/FGaus)*z*200*(z/(5+z))*np.exp((-2*z)/30)\n",
    "dGaus, v = Gaus(wi2, ti2, D)\n",
    "\n",
    "print('N° puntos:', nGaus)\n",
    "print('  -  La fuerza total es', FGaus, 'lb')\n",
    "print('  -  El punto de acción efectiva es', dGaus, 'ft')"
   ]
  },
  {
   "cell_type": "markdown",
   "id": "1d15e894-4e41-4aa5-a2d9-a589608c4386",
   "metadata": {},
   "source": [
    "### Convergencia de cada método"
   ]
  },
  {
   "cell_type": "code",
   "execution_count": 10,
   "id": "a9d7b661-a581-4f84-a587-2fcc47a40ddd",
   "metadata": {},
   "outputs": [
    {
     "data": {
      "image/png": "[encoded data removed]",
      "text/plain": [
       "<Figure size 648x432 with 1 Axes>"
      ]
     },
     "metadata": {
      "needs_background": "light"
     },
     "output_type": "display_data"
    }
   ],
   "source": [
    "Trapecios = []\n",
    "Simpson13 = []\n",
    "\n",
    "h = np.linspace(0.05, 5, 1000)\n",
    "for i,hi in enumerate(h):\n",
    "    Trapecios.append(Trap(hi))\n",
    "    Simpson13.append(Simp(hi))\n",
    "    \n",
    "plt.plot(h, Trapecios, '-', label='Trapecios')\n",
    "plt.plot(h, Simpson13, '-', label='Simpson 1/3')\n",
    "plt.title('Covergencia de cada método según el tamaño de paso')\n",
    "plt.xlabel('Tamaño de paso (ft)')\n",
    "plt.ylabel('Fuerza total (lb)')\n",
    "plt.legend()\n",
    "plt.show()"
   ]
  },
  {
   "cell_type": "code",
   "execution_count": 11,
   "id": "ea9ea77b-6a7c-482d-8cbb-56628cc35fd9",
   "metadata": {},
   "outputs": [
    {
     "data": {
      "image/png": "[encoded data removed]",
      "text/plain": [
       "<Figure size 648x432 with 1 Axes>"
      ]
     },
     "metadata": {
      "needs_background": "light"
     },
     "output_type": "display_data"
    }
   ],
   "source": [
    "n = [1, 2, 3, 4, 5]\n",
    "CuadGauss = [Gaus(wi1, ti1)[0]]\n",
    "CuadGauss.append(Gaus(wi2, ti2)[0])\n",
    "CuadGauss.append(Gaus(wi3, ti3)[0])\n",
    "CuadGauss.append(Gaus(wi4, ti4)[0])\n",
    "CuadGauss.append(Gaus(wi5, ti5)[0])\n",
    "\n",
    "plt.plot(n, CuadGauss, '-')\n",
    "plt.title('Convergencia de las cuadraturas de Gauss según la cantidad de puntos')\n",
    "plt.xlabel('N° de puntos')\n",
    "plt.ylabel('Fuerza total (lb)')\n",
    "plt.show()"
   ]
  }
 ],
 "metadata": {
  "kernelspec": {
   "display_name": "Python 3 (ipykernel)",
   "language": "python",
   "name": "python3"
  },
  "language_info": {
   "codemirror_mode": {
    "name": "ipython",
    "version": 3
   },
   "file_extension": ".py",
   "mimetype": "text/x-python",
   "name": "python",
   "nbconvert_exporter": "python",
   "pygments_lexer": "ipython3",
   "version": "3.9.10"
  }
 },
 "nbformat": 4,
 "nbformat_minor": 5
}
