{
 "cells": [
  {
   "cell_type": "markdown",
   "id": "46e3ca15-f46f-4cba-b893-bd04e7144680",
   "metadata": {},
   "source": [
    "$$\n",
    "\\large \\textbf{Problema 05\n",
    "}\n",
    "$$"
   ]
  },
  {
   "cell_type": "markdown",
   "id": "b58f2a31-6278-469d-a87b-6c7f7f8a2bff",
   "metadata": {},
   "source": [
    "El agua de un lago de zonas templadas, al igual que el líquido en un reactor de procesos químicos, está térmicamente estratificada. Cerca de la superficie el agua es tibia y liviana (epilimnion) y en el fondo más fría y densa (hipolimnion). Ambas capas están separadas, aproximadamente, por un plano conocido por thermocline, donde la derivada segunda de la temperatura respecto de la profundidad se hace cero (o la derivada primera tiene su máximo). A esta profundidad el flujo de calor de la superficie al fondo de la capa se puede calcular con la ley de Fourier:"
   ]
  },
  {
   "cell_type": "markdown",
   "id": "c25d9702-3a1c-4863-8d7b-ba5d42e6d1cc",
   "metadata": {},
   "source": [
    "$$\n",
    "J=-k\\:\\frac{dT}{dx}\n",
    "$$"
   ]
  },
  {
   "cell_type": "markdown",
   "id": "97047b90-5658-4f26-95ee-458590b6a752",
   "metadata": {},
   "source": [
    "Dados los datos de la tabla siguiente, correspondientes a la temperatura del líquido de un reactor en función de la profundidad, realice un ajuste de la temperatura y de su derivada en función de la profundidad usando el método de splines. Encuentre la posición aproximada de la thermocline y calcule el flujo de calor a través de la interfaz (tome $k=0.01\\:\\frac{cal}{s\\:cm\\:°C}$)"
   ]
  },
  {
   "cell_type": "markdown",
   "id": "0d56190f-bef0-48ea-8395-094550b9ddba",
   "metadata": {},
   "source": [
    "$$\n",
    "\\begin{matrix}\n",
    "z\\:(m) & | & 0 & 0.5 & 1.0 & 1.5 & 2.0 & 2.5 & 3.0\\\\\n",
    "T\\:(°C) & | & 70 & 68 & 55 & 22 & 13 & 11 & 10\n",
    "\\end{matrix}\n",
    "$$"
   ]
  },
  {
   "cell_type": "markdown",
   "id": "e1c7d4a3-5ce8-494c-83d6-1ae2f84fb22c",
   "metadata": {},
   "source": [
    "***"
   ]
  },
  {
   "cell_type": "code",
   "execution_count": 1,
   "id": "c3c613cd-8de1-47d6-93a7-36316ed8bed4",
   "metadata": {},
   "outputs": [],
   "source": [
    "import numpy as np                # Librería de álgebra lineal\n",
    "import matplotlib.pyplot as plt   # Librería de gráficos\n",
    "plt.rc('figure', figsize=(9,6))\n",
    "plt.rc('font', size=14)"
   ]
  },
  {
   "cell_type": "markdown",
   "id": "dab8bf55-4cff-4ad4-b942-d5c403742565",
   "metadata": {},
   "source": [
    "### Datos"
   ]
  },
  {
   "cell_type": "code",
   "execution_count": 2,
   "id": "1e4fb420-3855-4eb1-9001-e7775b2c7fa0",
   "metadata": {},
   "outputs": [
    {
     "data": {
      "image/png": "[encoded data removed]",
      "text/plain": [
       "<Figure size 648x432 with 1 Axes>"
      ]
     },
     "metadata": {
      "needs_background": "light"
     },
     "output_type": "display_data"
    }
   ],
   "source": [
    "z = [0, 0.5, 1, 1.5, 2, 2.5, 3]\n",
    "T = [70, 68, 55, 22, 13, 11, 10]\n",
    "\n",
    "plt.plot(z,T, \"o\", color='b', ms=9)\n",
    "plt.xlabel('Profundidad (m)')\n",
    "plt.ylabel('Temperatura (°C)')\n",
    "plt.show()"
   ]
  },
  {
   "cell_type": "markdown",
   "id": "5d5a8965-9a32-4431-8f2d-e2070a3f735f",
   "metadata": {},
   "source": [
    "### Algoritmo de Thomas"
   ]
  },
  {
   "cell_type": "code",
   "execution_count": 3,
   "id": "6256989b-1279-4ce8-a9e0-b7ad9ccd3bb0",
   "metadata": {},
   "outputs": [],
   "source": [
    "#  a = subdiagonal inferior\n",
    "#  b = diagonal principal\n",
    "#  c = subdiagonal superior\n",
    "#  d = vector de carga\n",
    "\n",
    "def Thomas(a, b, c, d):\n",
    "    N = len(d)\n",
    "    a = [0] + a\n",
    "    c = c + [0]\n",
    "    \n",
    "    C = [c[0]/b[0]]\n",
    "    D = [d[0]/b[0]]\n",
    "    \n",
    "    for i in range(1,N):\n",
    "        C.append(c[i]/(b[i]-c[i-1]*a[i]))\n",
    "        D.append((d[i]-D[i-1]*a[i])/(b[i]-c[i-1]*a[i]))\n",
    "    \n",
    "    X = np.zeros(N)\n",
    "    X[N-1] = D[N-1]\n",
    "    for i in range(N-2,0,-1):\n",
    "        X[i] = D[i]-C[i]*X[i+1]\n",
    "    return X"
   ]
  },
  {
   "cell_type": "markdown",
   "id": "2b786bd0-8499-464f-9ed2-a7697e480a45",
   "metadata": {},
   "source": [
    "### Función Spline"
   ]
  },
  {
   "cell_type": "code",
   "execution_count": 4,
   "id": "7bd243a1-fa47-4879-ba45-6ad3d81d6a4b",
   "metadata": {
    "tags": []
   },
   "outputs": [],
   "source": [
    "# x = abcisas de los puntos a interpolar\n",
    "# y = ordenadas de los puntos a interpolar\n",
    "# n = tipo de condiciones a utilizar:\n",
    "#       Curvaturas fijas:   n = 1\n",
    "#       Bordes sujetos:     n = 2\n",
    "# c = condiciones:\n",
    "#       Curvaturas fijas:   vector de 2 componentes con la derivada segunda en el primer y último punto\n",
    "#       Bordes sujetos:     vector de 2 componentes con la derivada primera en el primer y último punto\n",
    "\n",
    "def spline3(x, y, n, c):\n",
    "    N = len(x)-1\n",
    "    \n",
    "    h = []\n",
    "    d = []\n",
    "    for i in range(N):\n",
    "        h.append(x[i+1]-x[i])\n",
    "    for i in range(N):\n",
    "        d.append((y[i+1]-y[i])/h[i])\n",
    "    \n",
    "    A = []\n",
    "    B = []\n",
    "    C = []\n",
    "    for i in range(N-2):\n",
    "        A.append(h[i+1])\n",
    "        C.append(h[i+1])\n",
    "    for i in range(N-1):\n",
    "        B.append(2*(h[i]+h[i+1]))\n",
    "    \n",
    "    if n==1:\n",
    "        D = [6*(d[1]-d[0])-h[0]*c[0]]\n",
    "        for i in range(1, N-2):\n",
    "            D.append(d[i+1]-d[i])\n",
    "        D.append(6*(d[-1]-d[-2])-h[-1]*c[1])\n",
    "        S = Thomas(A,B,C,D)\n",
    "        S = np.insert(S, 0, c[0])\n",
    "        S = np.append(S, c[1])\n",
    "    \n",
    "    elif n==2:\n",
    "        B[0] = 3/2*h[0]+2*h[1]\n",
    "        B[-1] = 2*h[-2]+3/2*h[-1]\n",
    "        D = [6*(d[1]-d[0])-3*(d[0]-c[0])]\n",
    "        for i in range(1, N-2):\n",
    "            D.append(6*(d[i+1]-d[i]))\n",
    "        D.append(6*(d[-1]-d[-2])-3*(c[1]-d[-1]))\n",
    "        S = Thomas(A,B,C,D)\n",
    "        S = np.insert(S, 0, 3*(d[0]-c[0])/h[0]-S[0]/2)\n",
    "        S = np.append(S, 3*(c[1]-d[-1])/h[-1]-S[-1]/2)\n",
    "    \n",
    "    P1 = []\n",
    "    P2 = []\n",
    "    P3 = []\n",
    "    P4 = []\n",
    "    for i in range(N):\n",
    "        P1.append((S[i+1]-S[i])/(6*h[i]))\n",
    "        P2.append(S[i]/2)\n",
    "        P3.append(d[i]-h[i]*(2*S[i]+S[i+1])/6)\n",
    "        P4.append(y[i])\n",
    "    P = [P1, P2, P3, P4]\n",
    "    return P"
   ]
  },
  {
   "cell_type": "markdown",
   "id": "feb47825-4255-4f81-92a8-9e4fc2d0ba44",
   "metadata": {},
   "source": [
    "### Interpolación"
   ]
  },
  {
   "cell_type": "code",
   "execution_count": 5,
   "id": "64a01ef1-9192-4947-8bec-49435dc92b3e",
   "metadata": {},
   "outputs": [
    {
     "name": "stdout",
     "output_type": "stream",
     "text": [
      "[[  0.          -4.11253814  13.83975498 -10.43914242   3.01318895\n",
      "   -2.30126336]\n",
      " [  0.           0.          -6.16880721  14.59082525  -1.06788838\n",
      "    3.45189504]\n",
      " [ -4.         -24.97186546 -66.37553514 -22.68562702  -4.21935305\n",
      "   -3.15063168]\n",
      " [ 70.          68.          55.          22.          13.\n",
      "   11.        ]]\n"
     ]
    }
   ],
   "source": [
    "n = 1   # Cond. de bordes sujetos\n",
    "c = [0, 0]\n",
    "P = np.array(spline3(z, T, n, c))\n",
    "print(P)"
   ]
  },
  {
   "cell_type": "code",
   "execution_count": 6,
   "id": "8142ec68-eaa1-45dd-890f-b7d5fe96e456",
   "metadata": {
    "tags": []
   },
   "outputs": [],
   "source": [
    "# x = abcisas de los puntos interpolados\n",
    "# y = ordenadas de los puntos interpolados\n",
    "# P = debe ser la matriz de coeficientes obtenida por el spline3\n",
    "# ppp = cantidad de puntos por parábola que se deseen graficar\n",
    "\n",
    "def grspline3(x, y, P, ppp):\n",
    "    plt.plot(x, y, 'o', color='blue')\n",
    "    plt.xlabel('Profundidad (m)')\n",
    "    plt.ylabel('Temperatura (°C)')\n",
    "    \n",
    "    N = len(x)-1\n",
    "    Y = np.zeros([N, ppp])\n",
    "    dY = np.zeros([N, ppp])\n",
    "    XX = []\n",
    "    \n",
    "    for i in range(N):\n",
    "        X = np.linspace(x[i], x[i+1], ppp)\n",
    "        XX.append(X)\n",
    "        for j in range(ppp):\n",
    "            Y[i, j] = ((P[0, i]*(X[j]-x[i])+P[1, i])*(X[j]-x[i])+P[2, i])*(X[j]-x[i])+P[3, i]\n",
    "            dY[i, j] = (3*P[0, i]*(X[j]-x[i])+2*P[1, i])*(X[j]-x[i])+P[2, i]\n",
    "        plt.plot(X, Y[i, :], linestyle='-', color='c')\n",
    "        plt.plot(X, dY[i, :], linestyle='-', color='g')\n",
    "    \n",
    "    return XX, Y, dY, plt.show()"
   ]
  },
  {
   "cell_type": "code",
   "execution_count": 7,
   "id": "f60146f2-e882-4a18-ab1e-e13077b84aa3",
   "metadata": {},
   "outputs": [
    {
     "data": {
      "image/png": "[encoded data removed]",
      "text/plain": [
       "<Figure size 648x432 with 1 Axes>"
      ]
     },
     "metadata": {
      "needs_background": "light"
     },
     "output_type": "display_data"
    }
   ],
   "source": [
    "zSP3, TSP3, dTSP3, plot = grspline3(z, T, P, 100)"
   ]
  },
  {
   "cell_type": "markdown",
   "id": "56d272ad-bdce-474d-9722-dad7cae8ce80",
   "metadata": {},
   "source": [
    "### Thermocline"
   ]
  },
  {
   "cell_type": "code",
   "execution_count": 8,
   "id": "1de0baad-cc68-4da3-9fb1-034b1531c042",
   "metadata": {},
   "outputs": [
    {
     "name": "stdout",
     "output_type": "stream",
     "text": [
      "Thermocline:      1.1464646464646464  m\n",
      "Flujo de calor:  -67.2918926578044   cal/(m^2 s)\n"
     ]
    }
   ],
   "source": [
    "posmin = dTSP3.argmin()\n",
    "dT_min = np.hstack(dTSP3)[posmin]\n",
    "z_min = np.hstack(zSP3)[posmin]\n",
    "print('Thermocline:     ', z_min, ' m')\n",
    "print('Flujo de calor: ', dT_min, '  cal/(m^2 s)')"
   ]
  }
 ],
 "metadata": {
  "kernelspec": {
   "display_name": "Python 3 (ipykernel)",
   "language": "python",
   "name": "python3"
  },
  "language_info": {
   "codemirror_mode": {
    "name": "ipython",
    "version": 3
   },
   "file_extension": ".py",
   "mimetype": "text/x-python",
   "name": "python",
   "nbconvert_exporter": "python",
   "pygments_lexer": "ipython3",
   "version": "3.9.10"
  }
 },
 "nbformat": 4,
 "nbformat_minor": 5
}
