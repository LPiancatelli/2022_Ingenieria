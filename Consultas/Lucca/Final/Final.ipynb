{
 "cells": [
  {
   "cell_type": "markdown",
   "id": "8110bcd0-09c0-4058-a21a-6674cc9ce8b2",
   "metadata": {
    "tags": []
   },
   "source": [
    "## Modelo de Ising\n",
    "<div style=\"text-align: justify\">\n",
    "El modelo de Ising es el modelo matemático del ferromagnetismo. Se parte de una grilla cuadrada de $N \\times N$ elementos y se asigna a cada uno un espín $\\uparrow (S=1)$ o $\\downarrow (S=-1)$. Éstos interactúan con sus primeros vecinos con una energía de intercambio $J$ si son paralelos y $-J$ si son antiparalelos. <br>\n",
    "El hamiltoniano del sistema es: <br><br>\n",
    "$$\n",
    "\\mathcal{H} = -J \\sum_{\\langle i,j \\rangle} S_iS_j - H \\sum_i S_i\n",
    "$$\n",
    "<br> donde la notación $\\langle i,j \\rangle$ indica la suma sobre los primeros vecinos, $J$ es la energía de intercambio, $S_{i,j}$ es el espín y $H$ es la magnitud del campo magnético externo. <br>\n",
    "La probabilidad de transición entre 2 estados $W_1$ y $W_2$ es: <br><br>\n",
    "$$\n",
    "P(W_1 \\rightarrow W_2) = \\left\\{ \\begin{matrix} 1 & \\:\\:\\:\\: si \\:\\: \\Delta E_{W_1 \\rightarrow W_2} \\le 0 \\\\ \\exp{(-\\beta \\cdot \\Delta E_{W_1 \\rightarrow W_2})} & \\:\\:\\:\\: si \\:\\: \\Delta E_{W_1 \\rightarrow W_2} > 0 \\end{matrix} \\right.\n",
    "$$\n",
    "<br> donde $\\beta = \\frac{1}{k_B T}$.\n",
    "<br><br>\n",
    "La forma básica para resolver el modelo de Ising es a través del algoritmo de Metrópolis: <ol>\n",
    "<li> Preparar una configuración inicial de $N^2$ espines.\n",
    "<li> Elegir un sitio aleatoriamente y calcular la contribución a la energía relacionada con su espín.\n",
    "<li> Variar el espín de dicho sitio y calcular la nueva contribución a la energía.\n",
    "<li> Calcular la variación de energía $dE$.\n",
    "<li> Si $dE<0$ se acepta el cambio con probabilidad $1$. Si $dE>0$ se acepta el cambio con probabilidad $\\exp{(-\\beta \\cdot dE)}$.\n",
    "<li> Se repiten los pasos 2 a 5.\n",
    "</ol> </div>"
   ]
  },
  {
   "cell_type": "markdown",
   "id": "89973ac5-76dc-4182-b33a-26466b0308df",
   "metadata": {
    "tags": []
   },
   "source": [
    "## Aleaciones binarias\n",
    "<div style=\"text-align: justify\">\n",
    "Considerando interacciones a primeros vecinos en una red cuadrada en la que cada sitio está ocupado por un átomo de A o de B, el hamiltoniano de la red es: <br><br>\n",
    "$$\n",
    "\\mathcal{H} = \\sum_{\\langle i,j \\rangle} \\biggl\\{ V^{AA}c_ic_j + V^{AB} \\Bigl[ c_i\\bigl(1-c_j\\bigr)+\\bigl(1-c_i\\bigr)c_j \\Bigr] + V^{BB}\\bigl(1-c_i\\bigr)\\bigl(1-c_j\\bigr) \\biggr\\}\n",
    "$$\n",
    "<br> donde $V$ es la energía de unión entre los átomos indicados por su superíndice y $c_i$ es una variable que adopta valor $1$ si el sitio $i$ está ocupado por un átomo A y $0$ si está ocupado por un átomo B. <br>\n",
    "Esto puede adaptarse al modelo de Ising a partir del siguiente cambio de variable: <br><br>\n",
    "$$\n",
    "S_i=2c_i-1\n",
    "$$\n",
    "<br> donde $S_i$ adopta valor $+1$ si el sitio $i$ está ocupado por un átomo A y $-1$ si está ocupado por un átomo B. De este modo, el hamiltoniano del sistema es: <br><br>\n",
    "$$\n",
    "\\mathcal{H}_I = -J \\sum_{\\langle i,j \\rangle} S_iS_j - H \\sum_i S_i\n",
    "$$\n",
    "<br> donde $J$ queda determinada por: <br><br>\n",
    "$$\n",
    "J = -\\frac{1}{4} \\bigl( V^{AA}-2V^{AB}+V^{BB} \\bigr)\n",
    "$$\n",
    "<br> y $H$, el equivalente al campo magnético externo, se define a partir de los potenciales químicos $\\mu_A$ y $\\mu_B$ según: <br><br>\n",
    "$$\n",
    "H = \\frac{1}{2} \\bigl( \\mu_A-\\mu_B \\bigr) - \\bigl( V^{AA}-V^{BB} \\bigr)\n",
    "$$\n",
    "</div>"
   ]
  },
  {
   "cell_type": "markdown",
   "id": "f67e7f2a-4ac6-4d6e-a08a-acb7987a5cd4",
   "metadata": {},
   "source": [
    "---\n",
    "### Librerías"
   ]
  },
  {
   "cell_type": "code",
   "execution_count": 1,
   "id": "8e05c200-6d61-4e71-94fe-bc3d6b988063",
   "metadata": {},
   "outputs": [],
   "source": [
    "import numpy as np\n",
    "import copy\n",
    "import matplotlib.pyplot as plt\n",
    "from matplotlib.colors import LinearSegmentedColormap\n",
    "plt.rc('font', size=14)"
   ]
  },
  {
   "cell_type": "code",
   "execution_count": 2,
   "id": "2c6a2ade-8bf1-4d45-bbda-0abff050fd8c",
   "metadata": {},
   "outputs": [],
   "source": [
    "colors = [(247/256, 166/256, 0), (2/256, 63/256, 134/256)]\n",
    "ElMasGrande = LinearSegmentedColormap.from_list('Boca', colors, 2)"
   ]
  },
  {
   "cell_type": "markdown",
   "id": "3aa2a7d8-1571-4f72-afc6-4ce659bc814a",
   "metadata": {},
   "source": [
    "### Datos"
   ]
  },
  {
   "cell_type": "code",
   "execution_count": 3,
   "id": "88c3d2fc-a6d5-4e24-8057-bf444cb0d5d9",
   "metadata": {},
   "outputs": [],
   "source": [
    "# Tamaño de la malla y proporción de átomos de A\n",
    "N = 30\n",
    "xA = 0.50\n",
    "\n",
    "# Constantes del problema (no encontré valores recomendados o específicos de alguna aleación)\n",
    "VAA = -1\n",
    "VAB = -2\n",
    "VBB = -1\n",
    "muA = 0.2\n",
    "muB = 0.8\n",
    "\n",
    "# Temperaturas y movimientos de Montecarlo por temperatura\n",
    "Temps = np.hstack((np.linspace(4, 1.5, 6), [1.4, 1.3, 1.2], np.linspace(1.19, 1.15, 21), np.linspace(1.1, 0.1, 6)))\n",
    "pasos = 1000*(N*N)\n",
    "\n",
    "# Refinamiento de Temps para encontrar T_C. ¿Alguna manera eficiente (que no sea a mano)?\n",
    "#   Original: Temps = np.linspace(4, 0.1, 20)\n",
    "#   Rev1: Temps = np.hstack((np.linspace(4, 1.5, 6), np.linspace(1.4, 0.6, 33), np.linspace(0.5, 0.1, 3)))\n",
    "#   Rev2: Temps = np.hstack((np.linspace(4, 1.5, 6), [1.4, 1.3], np.linspace(1.25, 1.15, 11), np.linspace(1.1, 0.1, 6)))"
   ]
  },
  {
   "cell_type": "code",
   "execution_count": 4,
   "id": "8ddc7742-87c6-4214-89a0-15e0df2612bd",
   "metadata": {},
   "outputs": [],
   "source": [
    "J = -(VAA-2*VAB+VBB)/4\n",
    "H = (muA-muB)/2-(VAA-VBB)"
   ]
  },
  {
   "cell_type": "markdown",
   "id": "7c0239b8-18c1-4753-9a76-abbefcce6113",
   "metadata": {},
   "source": [
    "### Configuración incial\n",
    "<div style=\"text-align: justify\">\n",
    "La configuración inicial no es completamente aleatoria como en el modelo de Ising para el ferromagnetismo, sino que está restringida a los átomos disponibles de A y B en la aleación, dados por: <br>\n",
    "<ol>\n",
    "<p> Átomos de A:  $\\:\\: N_A = x_A \\cdot N^2$\n",
    "<p> Átomos de B:  $\\:\\: N_B = x_B \\cdot N^2 = (1-x_A) \\cdot N^2 = N^2-N_A$\n",
    "</ol> </div>"
   ]
  },
  {
   "cell_type": "code",
   "execution_count": 5,
   "id": "0bb8dac6-8a85-4bec-a9b6-0996116caac8",
   "metadata": {},
   "outputs": [],
   "source": [
    "def iniciar(N, xA, J, H):\n",
    "    '''\n",
    "    Genera una configuración aleatoria de átomos de A y B en una red de NxN,\n",
    "    donde la proporción de cada elemento está dada por xA y xB=(1-xA), y\n",
    "    calcula su energía.\n",
    "    '''\n",
    "    Na = int(np.floor(((N*N)*xA)))\n",
    "    Nb = int((N*N-Na))\n",
    "    vA = np.ones([Na, 1]).ravel()\n",
    "    vB = -1*np.ones([Nb, 1]).ravel()\n",
    "    conf = np.hstack((vA, vB))\n",
    "    np.random.shuffle(conf)\n",
    "    conf = conf.reshape([N, N])\n",
    "    # Con 'shuffle' los arrays multidimensionales solo se aleatorizan a lo\n",
    "    # largo del primer eje, por lo que armo 2 vectores con 'ravel' y luego\n",
    "    # armo la matriz de NxN con un 'reshape'.\n",
    "\n",
    "    M = conf.sum()\n",
    "    E = 0\n",
    "    for i in range(N):\n",
    "        for j in range(N):\n",
    "            E += -J*(conf[i, j]*(conf[i-1, j]+conf[i, j-1])) - H*conf[i, j]\n",
    "\n",
    "    return conf, E, M"
   ]
  },
  {
   "cell_type": "code",
   "execution_count": 6,
   "id": "0f71c8a0-a129-4194-8309-e992b89792b7",
   "metadata": {},
   "outputs": [],
   "source": [
    "conf, E, M = iniciar(N, xA, J, H)\n",
    "E0 = copy.copy(E)\n",
    "conf0 = copy.copy(conf)"
   ]
  },
  {
   "cell_type": "code",
   "execution_count": 7,
   "id": "20fb2e58-9fde-452b-abff-dbec0fa5adb5",
   "metadata": {},
   "outputs": [],
   "source": [
    "E_medio = E\n",
    "E2_medio = (E**2)"
   ]
  },
  {
   "cell_type": "markdown",
   "id": "386f97ac-04c9-46fd-b01a-589b003f0df0",
   "metadata": {},
   "source": [
    "### Movimientos de Montecarlo\n",
    "<div style=\"text-align: justify\">\n",
    "A diferencia del modelo de Ising para el magnetismo, no se varía el espín de una partícula, sino que se intercambian dos átomos de lugar. La restricción es que en todo momento los valores $N_A$ y $N_B$ y, por lo tanto, la \"magnetización\" (sumatoria de los $S_i$), deben ser constante.\n",
    "</div>"
   ]
  },
  {
   "cell_type": "code",
   "execution_count": 8,
   "id": "63839614-ec9b-4eb2-b3fb-53ec49989cbf",
   "metadata": {},
   "outputs": [],
   "source": [
    "Energia = []\n",
    "EnergiaCuad = []\n",
    "CalorEsp = []"
   ]
  },
  {
   "cell_type": "code",
   "execution_count": 9,
   "id": "d8b3d55c-ab7f-45c5-aff6-4d2b841e397b",
   "metadata": {},
   "outputs": [],
   "source": [
    "for T in Temps:\n",
    "    E_medio = E2_medio = 0\n",
    "    for i in range(pasos):\n",
    "\n",
    "        # Genero 2 posiciones aleatorias en la configuración.\n",
    "        a1 = np.random.randint(N)\n",
    "        a2 = np.random.randint(N)\n",
    "        b1 = np.random.randint(N)\n",
    "        b2 = np.random.randint(N)\n",
    "\n",
    "        # Calculo la variación de la energía.\n",
    "        if conf[a1, a2]*conf[b1, b2] == 1:    # Si son átomos del mismo elemento\n",
    "            dE = 0\n",
    "        else:                                 # Si son átomos de distintos elementos\n",
    "            if np.linalg.norm([b1-a1, b2-a2], 1) == 1:     # Si son primeros vecinos\n",
    "                new_conf = copy.copy(conf)\n",
    "                new_conf[a1, a2] = copy.copy(conf[b1, b2])\n",
    "                new_conf[b1, b2] = copy.copy(conf[a1, a2])\n",
    "                dE = 0\n",
    "                for i in range(N):\n",
    "                    for j in range(N):\n",
    "                        dE += -J*(new_conf[i, j]*(new_conf[i-1, j]+new_conf[i, j-1])) - H*new_conf[i, j]\n",
    "                dE -= E\n",
    "            else:                                          # Si no son primeros vecinos\n",
    "                dE1 = 2*J*conf[a1, a2]*(conf[a1-1, a2]+conf[a1-(N-1), a2]+conf[a1, a2-1]+conf[a1, a2-(N-1)]) - 2*H*conf[a1, a2]\n",
    "                dE2 = 2*J*conf[b1, b2]*(conf[b1-1, b2]+conf[b1-(N-1), b2]+conf[b1, b2-1]+conf[b1, b2-(N-1)]) - 2*H*conf[b1, b2]\n",
    "                dE = dE1+dE2\n",
    "\n",
    "        # En base al valor obtenido se decide si hacer el movimiento.\n",
    "        if dE < 0:\n",
    "            aux = copy.copy(conf[a1, a2])\n",
    "            conf[a1, a2] = copy.copy(conf[b1, b2])\n",
    "            conf[b1, b2] = aux\n",
    "            E += dE\n",
    "        elif dE == 0:\n",
    "            pass\n",
    "        elif np.random.rand(1) < np.exp(-dE/T):\n",
    "            aux = copy.copy(conf[a1, a2])\n",
    "            conf[a1, a2] = copy.copy(conf[b1, b2])\n",
    "            conf[b1, b2] = aux\n",
    "            E += dE\n",
    "\n",
    "        # Actualizo con la energía obtenida\n",
    "        E_medio += E\n",
    "        E2_medio += E**2\n",
    "\n",
    "    # Normalizo\n",
    "    E_medio *= 1/(N*N*pasos)\n",
    "    E2_medio *= 1/(N**4*pasos)\n",
    "\n",
    "    # Obtengo los valores necesarios\n",
    "    Energia.append(E_medio)\n",
    "    EnergiaCuad.append(E2_medio)\n",
    "    CalorEsp.append((E2_medio-E_medio**2)/T**2)"
   ]
  },
  {
   "cell_type": "markdown",
   "id": "286f0cb7-6ffb-4212-bf64-151623ce716c",
   "metadata": {},
   "source": [
    "### Configuración final"
   ]
  },
  {
   "cell_type": "code",
   "execution_count": 10,
   "id": "af3fe25f-7bfa-4cc8-a444-2ad60e6c25b0",
   "metadata": {},
   "outputs": [
    {
     "name": "stdout",
     "output_type": "stream",
     "text": [
      "\n",
      "\u001b[1m Estado inicial:                              Estado Final:  \u001b[0m\n",
      "\u001b[1m \u001b[33m    Energía    \u001b[0m  -34.00                      \u001b[1m \u001b[33m    Energía    \u001b[0m  -900.00\n",
      "\u001b[1m \u001b[33m    \"Magnet.\"  \u001b[0m   0.00                       \u001b[1m \u001b[33m   \"Magnet.\"  \u001b[0m   0.00\n",
      "\n"
     ]
    },
    {
     "data": {
      "image/png": "[encoded data removed]",
      "text/plain": [
       "<Figure size 720x360 with 2 Axes>"
      ]
     },
     "metadata": {
      "needs_background": "light"
     },
     "output_type": "display_data"
    }
   ],
   "source": [
    "print()\n",
    "print('\\033[1m Estado inicial:                              Estado Final:  \\033[0m')\n",
    "print('\\033[1m \\033[33m    Energía    \\033[0m  %5.2f                      \\033[1m \\033[33m    Energía    \\033[0m  %5.2f' % (E0, E))\n",
    "print('\\033[1m \\033[33m    \"Magnet.\"  \\033[0m  %5.2f                       \\033[1m \\033[33m   \"Magnet.\"  \\033[0m  %5.2f' % (M, M))\n",
    "print()\n",
    "\n",
    "plt.rc('figure', figsize=(10, 5))\n",
    "fig = plt.figure()\n",
    "fig.clf()\n",
    "fig.suptitle(str(np.round(xA*100))+' %A')\n",
    "ax = fig.subplots(1, 2)\n",
    "\n",
    "ax[0].imshow(conf0, cmap=ElMasGrande)\n",
    "ax[0].set_title('Configuración inicial')\n",
    "ax[0].set_xticks([0, 9, 19, 29], [1, 10, 20, 30])\n",
    "ax[0].set_yticks([0, 9, 19, 29], [1, 10, 20, 30])\n",
    "\n",
    "ax[1].imshow(conf, cmap=ElMasGrande)\n",
    "ax[1].set_title('Configuración final')\n",
    "ax[1].set_xticks([0, 9, 19, 29], [1, 10, 20, 30])\n",
    "ax[1].set_yticks([0, 9, 19, 29], [1, 10, 20, 30])\n",
    "\n",
    "fig.tight_layout(pad=1)\n",
    "plt.savefig(str(np.round(xA*100))+'-1.png')"
   ]
  },
  {
   "cell_type": "markdown",
   "id": "bcaac5f2-06e4-423d-adbd-75a72c09af4e",
   "metadata": {},
   "source": [
    "### Evolución con la temperatura"
   ]
  },
  {
   "cell_type": "code",
   "execution_count": 11,
   "id": "458cf82f-6df1-465a-80dd-91bc3eda36ab",
   "metadata": {},
   "outputs": [
    {
     "name": "stdout",
     "output_type": "stream",
     "text": [
      "\n",
      "\u001b[1m \u001b[33m    Temp. de transformación \u001b[0m   1.1640\n",
      "\n"
     ]
    },
    {
     "data": {
      "image/png": "[encoded data removed]",
      "text/plain": [
       "<Figure size 1008x360 with 2 Axes>"
      ]
     },
     "metadata": {
      "needs_background": "light"
     },
     "output_type": "display_data"
    }
   ],
   "source": [
    "MaxY = max(CalorEsp)\n",
    "MaxX = Temps[CalorEsp.index(MaxY)]\n",
    "\n",
    "print()\n",
    "print('\\033[1m \\033[33m    Temp. de transformación \\033[0m   %6.4f' % MaxX)\n",
    "print()\n",
    "\n",
    "plt.rc('figure', figsize=(14, 5))\n",
    "fig = plt.figure()\n",
    "fig.clf()\n",
    "fig.suptitle(str(np.round(xA*100))+' %A')\n",
    "ax = fig.subplots(1, 2)\n",
    "\n",
    "ax[0].plot(Temps, Energia)\n",
    "ax[0].set_xlabel('Temperatura')\n",
    "ax[0].set_ylabel('Energía media')\n",
    "\n",
    "ax[1].plot(Temps, CalorEsp)\n",
    "ax[1].set_xlabel('Temperatura')\n",
    "ax[1].set_ylabel('Calor específico medio')\n",
    "\n",
    "fig.tight_layout(pad=1)\n",
    "plt.savefig(str(np.round(xA*100))+'-2.png')"
   ]
  }
 ],
 "metadata": {
  "kernelspec": {
   "display_name": "Python 3 (ipykernel)",
   "language": "python",
   "name": "python3"
  },
  "language_info": {
   "codemirror_mode": {
    "name": "ipython",
    "version": 3
   },
   "file_extension": ".py",
   "mimetype": "text/x-python",
   "name": "python",
   "nbconvert_exporter": "python",
   "pygments_lexer": "ipython3",
   "version": "3.9.10"
  }
 },
 "nbformat": 4,
 "nbformat_minor": 5
}
