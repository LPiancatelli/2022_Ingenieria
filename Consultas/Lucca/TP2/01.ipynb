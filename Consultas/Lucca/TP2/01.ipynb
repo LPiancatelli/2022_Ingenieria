{
 "cells": [
  {
   "cell_type": "markdown",
   "id": "fdc1fdca-2488-476b-88dd-e31a5bbb0c07",
   "metadata": {},
   "source": [
    "$$\n",
    "\\Large \\textbf{Problema 01}\n",
    "$$"
   ]
  },
  {
   "cell_type": "markdown",
   "id": "23c6e3a0-29e3-4030-9045-1e2896cdaa1f",
   "metadata": {},
   "source": [
    "Se desplaza el punto final del sistema de resortes mostrado en la figura, hasta unirlo a la pared. Todos los resortes tienen constantes $k=200\\:\\frac{kN}{m}$, siendo el desplazamiento final de $\\delta=20\\:mm$. Determine los desplazamientos de cada uno de los nodos, las fuerzas en cada elemento y las fuerzas globales (reacción de la pared y $F$).\n",
    "<center><img src=\"ImgProb01.png\"></center>\n",
    "\n",
    "***"
   ]
  },
  {
   "cell_type": "code",
   "execution_count": 1,
   "id": "2108e456-7b49-4ecf-a65d-409d61515b49",
   "metadata": {},
   "outputs": [],
   "source": [
    "import numpy as np                # Librería de álgebra lineal\n",
    "import matplotlib.pyplot as plt   # Librería de gráficos\n",
    "plt.rc('figure', figsize=(10,7))\n",
    "plt.rc('font', size=14)\n",
    "import copy\n",
    "import mef"
   ]
  },
  {
   "cell_type": "markdown",
   "id": "a96fb39d-b561-4906-8b90-265bced3ec08",
   "metadata": {},
   "source": [
    "## Datos del problema"
   ]
  },
  {
   "cell_type": "code",
   "execution_count": 2,
   "id": "487c5670-c2d7-4546-8d79-173fa411a5c3",
   "metadata": {
    "tags": []
   },
   "outputs": [],
   "source": [
    "N = 4\n",
    "k = 200   # kN/m\n",
    "d = 0.02   # m"
   ]
  },
  {
   "cell_type": "markdown",
   "id": "16a7a661-9e99-4e0f-870b-00313057a1e9",
   "metadata": {
    "tags": []
   },
   "source": [
    "Matriz global:\n",
    "$$\n",
    "\\scriptsize \\begin{pmatrix} F_1 \\\\ F_2 \\\\ F_3 \\\\ F_4 \\end{pmatrix} \\:\\:\\: = \\:\\:\\: \\begin{pmatrix} k_1 & -k_1 & 0 & 0 \\\\ -k_1 & k_1+k_2 & -k_2 & 0 \\\\ 0 & -k_2 & k_2+k_3 & -k_3 \\\\ 0 & 0 & -k_3 & k_3 \\end{pmatrix} \\begin{pmatrix} x_1 \\\\ x_2 \\\\ x_3 \\\\ x_4 \\end{pmatrix} \\:\\:\\: = \\:\\:\\: \\begin{pmatrix} k & -k & 0 & 0 \\\\ -k & 2k & -k & 0 \\\\ 0 & -k & 2k & -k \\\\ 0 & 0 & -k & k \\end{pmatrix} \\begin{pmatrix} x_1 \\\\ x_2 \\\\ x_3 \\\\ x_4 \\end{pmatrix}\n",
    "$$"
   ]
  },
  {
   "cell_type": "code",
   "execution_count": 3,
   "id": "63a79e6e-302c-4b5e-93c9-33d905fbdcd9",
   "metadata": {
    "tags": []
   },
   "outputs": [],
   "source": [
    "K = np.array([[ k,  -k,   0,  0],\n",
    "              [-k, 2*k,  -k,  0],\n",
    "              [ 0,  -k, 2*k, -k],\n",
    "              [ 0,   0,  -k,  k]])"
   ]
  },
  {
   "cell_type": "markdown",
   "id": "f695bb8c-7aed-467c-bb40-2d44997c3fb8",
   "metadata": {},
   "source": [
    "Condiciones de vínculo:\n",
    "$$\n",
    "\\begin{matrix} x_1=0 & & & & F_2=0 & & & & F_3=0 & & & & x_4=\\delta & & & &  \\end{matrix}\n",
    "$$"
   ]
  },
  {
   "cell_type": "code",
   "execution_count": 4,
   "id": "aea2439a-b487-4152-b6ac-d56b0bee6ce7",
   "metadata": {},
   "outputs": [],
   "source": [
    "s = np.array([0, 3])\n",
    "Us = np.array([0, d]).reshape([-1, 1])\n",
    "\n",
    "r = np.array([1, 2])\n",
    "Fr = np.array([0, 0]).reshape([-1, 1])"
   ]
  },
  {
   "cell_type": "markdown",
   "id": "cdb92c03-eeef-4ba1-8151-8c762335d2cb",
   "metadata": {},
   "source": [
    "## Resolución\n",
    "Utilizando el módulo 'mef.py' para el método de elementos finitos."
   ]
  },
  {
   "cell_type": "code",
   "execution_count": 5,
   "id": "4f62bd98-aece-40e3-864f-4787944ea32a",
   "metadata": {
    "tags": []
   },
   "outputs": [],
   "source": [
    "F, U = mef.solve(K, r, Fr, s, Us)"
   ]
  },
  {
   "cell_type": "code",
   "execution_count": 6,
   "id": "fe3ec61b-aec7-43c7-9be8-ed4b2b48f2c1",
   "metadata": {},
   "outputs": [
    {
     "name": "stdout",
     "output_type": "stream",
     "text": [
      "\u001b[1m \u001b[33m    Nodo 1 \u001b[0m   U = 0.0000 m     F = -1.3333 kN\n",
      "\u001b[1m \u001b[33m    Nodo 2 \u001b[0m   U = 0.0067 m     F =  0.0000 kN\n",
      "\u001b[1m \u001b[33m    Nodo 3 \u001b[0m   U = 0.0133 m     F =  0.0000 kN\n",
      "\u001b[1m \u001b[33m    Nodo 4 \u001b[0m   U = 0.0200 m     F =  1.3333 kN\n"
     ]
    }
   ],
   "source": [
    "for nodo in range(N):\n",
    "    print('\\033[1m \\033[33m    Nodo %s \\033[0m   U = %2.4f m     F = %7.4f kN'%(nodo+1, U[nodo], F[nodo]))"
   ]
  }
 ],
 "metadata": {
  "kernelspec": {
   "display_name": "Python 3 (ipykernel)",
   "language": "python",
   "name": "python3"
  },
  "language_info": {
   "codemirror_mode": {
    "name": "ipython",
    "version": 3
   },
   "file_extension": ".py",
   "mimetype": "text/x-python",
   "name": "python",
   "nbconvert_exporter": "python",
   "pygments_lexer": "ipython3",
   "version": "3.9.10"
  }
 },
 "nbformat": 4,
 "nbformat_minor": 5
}
