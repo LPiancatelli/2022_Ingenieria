{
 "cells": [
  {
   "cell_type": "markdown",
   "id": "05074dcf",
   "metadata": {},
   "source": [
    "$$\n",
    "\\Large \\textbf{Problema 01}\n",
    "$$"
   ]
  },
  {
   "cell_type": "markdown",
   "id": "6fc4ef83",
   "metadata": {},
   "source": [
    "Se desplaza el punto final del sistema de resortes mostrado en la figura, hasta unirlo a la pared. Todos los resortes tienen constantes $k=200\\:\\frac{kN}{m}$, siendo el desplazamiento final de $\\delta=20\\:mm$. Determine los desplazamientos de cada uno de los nodos, las fuerzas en cada elemento y las fuerzas globales (reacción de la pared y $F$).\n",
    "<center><img src=\"ImgProb01.png\"></center>\n",
    "\n",
    "***"
   ]
  },
  {
   "cell_type": "code",
   "execution_count": 1,
   "id": "dffbe400",
   "metadata": {},
   "outputs": [],
   "source": [
    "import numpy as np                # Librería de álgebra lineal\n",
    "import matplotlib.pyplot as plt   # Librería de gráficos\n",
    "plt.rc('figure', figsize=(10,7))\n",
    "plt.rc('font', size=14)\n",
    "import copy\n",
    "import mef"
   ]
  },
  {
   "cell_type": "markdown",
   "id": "3b9e2d7a",
   "metadata": {},
   "source": [
    "## Datos del problema"
   ]
  },
  {
   "cell_type": "code",
   "execution_count": 2,
   "id": "13db6551",
   "metadata": {
    "tags": []
   },
   "outputs": [],
   "source": [
    "N = 4\n",
    "k = 200   # kN/m\n",
    "d = 0.02   # m"
   ]
  },
  {
   "cell_type": "markdown",
   "id": "3582c70f",
   "metadata": {
    "tags": []
   },
   "source": [
    "Matriz global:\n",
    "$$\n",
    "\\scriptsize \\begin{pmatrix} F_1 \\\\ F_2 \\\\ F_3 \\\\ F_4 \\end{pmatrix} \\:\\:\\: = \\:\\:\\: \\begin{pmatrix} k_1 & -k_1 & 0 & 0 \\\\ -k_1 & k_1+k_2 & -k_2 & 0 \\\\ 0 & -k_2 & k_2+k_3 & -k_3 \\\\ 0 & 0 & -k_3 & k_3 \\end{pmatrix} \\begin{pmatrix} x_1 \\\\ x_2 \\\\ x_3 \\\\ x_4 \\end{pmatrix} \\:\\:\\: = \\:\\:\\: \\begin{pmatrix} k & -k & 0 & 0 \\\\ -k & 2k & -k & 0 \\\\ 0 & -k & 2k & -k \\\\ 0 & 0 & -k & k \\end{pmatrix} \\begin{pmatrix} x_1 \\\\ x_2 \\\\ x_3 \\\\ x_4 \\end{pmatrix}\n",
    "$$"
   ]
  },
  {
   "cell_type": "code",
   "execution_count": 3,
   "id": "523324dc",
   "metadata": {
    "tags": []
   },
   "outputs": [],
   "source": [
    "K = np.array([[ k,  -k,   0,  0],\n",
    "              [-k, 2*k,  -k,  0],\n",
    "              [ 0,  -k, 2*k, -k],\n",
    "              [ 0,   0,  -k,  k]])"
   ]
  },
  {
   "cell_type": "markdown",
   "id": "1a485cb1",
   "metadata": {},
   "source": [
    "Condiciones de vínculo:\n",
    "$$\n",
    "\\begin{matrix} x_1=0 & & & & F_2=0 & & & & F_3=0 & & & & x_4=\\delta & & & &  \\end{matrix}\n",
    "$$"
   ]
  },
  {
   "cell_type": "code",
   "execution_count": 4,
   "id": "5deeef18",
   "metadata": {},
   "outputs": [],
   "source": [
    "s = np.array([0, 3])\n",
    "Us = np.array([0, d]).reshape([-1, 1])\n",
    "\n",
    "r = np.array([1, 2])\n",
    "Fr = np.array([0, 0]).reshape([-1, 1])"
   ]
  },
  {
   "cell_type": "markdown",
   "id": "661eb93b",
   "metadata": {},
   "source": [
    "## Resolución\n",
    "Utilizando el módulo 'mef.py' para el método de elementos finitos."
   ]
  },
  {
   "cell_type": "code",
   "execution_count": 5,
   "id": "e29fe47d",
   "metadata": {
    "tags": []
   },
   "outputs": [],
   "source": [
    "F, U = mef.solve(K, r, Fr, s, Us)"
   ]
  },
  {
   "cell_type": "code",
   "execution_count": 6,
   "id": "f4002004",
   "metadata": {},
   "outputs": [
    {
     "name": "stdout",
     "output_type": "stream",
     "text": [
      "\u001b[1m \u001b[33m    Nodo 1 \u001b[0m   U = 0.0000 m     F = -1.3333 kN\n",
      "\u001b[1m \u001b[33m    Nodo 2 \u001b[0m   U = 0.0067 m     F =  0.0000 kN\n",
      "\u001b[1m \u001b[33m    Nodo 3 \u001b[0m   U = 0.0133 m     F =  0.0000 kN\n",
      "\u001b[1m \u001b[33m    Nodo 4 \u001b[0m   U = 0.0200 m     F =  1.3333 kN\n"
     ]
    }
   ],
   "source": [
    "for nodo in range(N):\n",
    "    print('\\033[1m \\033[33m    Nodo %s \\033[0m   U = %2.4f m     F = %7.4f kN'%(nodo+1, U[nodo], F[nodo]))"
   ]
  },
  {
   "cell_type": "markdown",
   "id": "8827bd96",
   "metadata": {},
   "source": [
    "<div style=\"background:#999900\"> Muy bueno lo de los colores y la impresión con formato ! también:</div>"
   ]
  },
  {
   "cell_type": "code",
   "execution_count": 7,
   "id": "283443a2",
   "metadata": {},
   "outputs": [],
   "source": [
    "from termcolor import colored"
   ]
  },
  {
   "cell_type": "code",
   "execution_count": 10,
   "id": "e8a3a9d6",
   "metadata": {},
   "outputs": [
    {
     "name": "stdout",
     "output_type": "stream",
     "text": [
      "\u001b[31mNodo 1\u001b[0m\n",
      "\u001b[31mNodo 2\u001b[0m\n",
      "\u001b[31mNodo 3\u001b[0m\n",
      "\u001b[31mNodo 4\u001b[0m\n"
     ]
    }
   ],
   "source": [
    "for nodo in range(N):\n",
    "    print(colored(f'Nodo {nodo+1}', color='red')) #(nodo+1, U[nodo], F[nodo]))"
   ]
  },
  {
   "cell_type": "code",
   "execution_count": 11,
   "id": "c7ffc7d7",
   "metadata": {},
   "outputs": [],
   "source": [
    "from colorama import Fore"
   ]
  },
  {
   "cell_type": "code",
   "execution_count": 23,
   "id": "82a9c08e",
   "metadata": {},
   "outputs": [
    {
     "name": "stdout",
     "output_type": "stream",
     "text": [
      "\u001b[94mNodo 1 \u001b[95mU = 0.0000\n",
      "\u001b[94mNodo 2 \u001b[95mU = 0.0067\n",
      "\u001b[94mNodo 3 \u001b[95mU = 0.0133\n",
      "\u001b[94mNodo 4 \u001b[95mU = 0.0200\n"
     ]
    }
   ],
   "source": [
    "for nodo in range(N):\n",
    "    print(Fore.LIGHTBLUE_EX+f'Nodo {nodo+1}', Fore.LIGHTMAGENTA_EX+f'U = {U[nodo][0]:.4f}') #, F[nodo]))"
   ]
  },
  {
   "cell_type": "code",
   "execution_count": null,
   "id": "9a73abf1",
   "metadata": {},
   "outputs": [],
   "source": []
  }
 ],
 "metadata": {
  "kernelspec": {
   "display_name": "Python 3 (ipykernel)",
   "language": "python",
   "name": "python3"
  },
  "language_info": {
   "codemirror_mode": {
    "name": "ipython",
    "version": 3
   },
   "file_extension": ".py",
   "mimetype": "text/x-python",
   "name": "python",
   "nbconvert_exporter": "python",
   "pygments_lexer": "ipython3",
   "version": "3.9.12"
  }
 },
 "nbformat": 4,
 "nbformat_minor": 5
}
