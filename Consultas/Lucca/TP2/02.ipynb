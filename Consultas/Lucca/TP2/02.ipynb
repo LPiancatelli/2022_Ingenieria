{
 "cells": [
  {
   "cell_type": "markdown",
   "id": "9cb8494a",
   "metadata": {},
   "source": [
    "$$\n",
    "\\large \\textbf{Problema 02}\n",
    "$$"
   ]
  },
  {
   "cell_type": "markdown",
   "id": "85da01b1",
   "metadata": {},
   "source": [
    "Considere el entramado mostrado en la figura, con una fuerza aplicada de $20\\:kN$. Calcule los desplazamientos de cada uno de los nodos y las tensiones que sufre cada elemento. Todos los elementos tienen $E=210\\:GPa$ y una sección de $10\\:cm^2$, excepto el elemento 3, que tiene una sección de $20\\:cm^2$. Los elementos 2 y 5 tienen una longitud de $8\\:m$ y el elemento 3 de $4\\:m$.\n",
    "<center><img src=\"ImgProb02.png\"></center>\n",
    "\n",
    "***"
   ]
  },
  {
   "cell_type": "code",
   "execution_count": 1,
   "id": "204d1be2",
   "metadata": {
    "tags": []
   },
   "outputs": [],
   "source": [
    "import mef\n",
    "import numpy as np                # Librería de álgebra lineal\n",
    "import matplotlib.pyplot as plt   # Librería de gráficos\n",
    "plt.rc('figure', figsize=(10, 7))\n",
    "plt.rc('font', size=14)"
   ]
  },
  {
   "cell_type": "markdown",
   "id": "b497d31f",
   "metadata": {},
   "source": [
    "## Datos del problema\n",
    "Matriz de nodos:"
   ]
  },
  {
   "cell_type": "code",
   "execution_count": 2,
   "id": "e089bb71",
   "metadata": {},
   "outputs": [],
   "source": [
    "MN = np.array([[0, 0, 0],\n",
    "               [8, 0, 0],\n",
    "               [16, 0, 0],\n",
    "               [8, 4, 0]])"
   ]
  },
  {
   "cell_type": "markdown",
   "id": "d0becb6d",
   "metadata": {},
   "source": [
    "Matriz de conectividad:"
   ]
  },
  {
   "cell_type": "code",
   "execution_count": 3,
   "id": "e15a5aa4",
   "metadata": {},
   "outputs": [],
   "source": [
    "MC = np.array([[0, 3],\n",
    "               [0, 1],\n",
    "               [1, 3],\n",
    "               [2, 3],\n",
    "               [1, 2]])"
   ]
  },
  {
   "cell_type": "markdown",
   "id": "9393ff66",
   "metadata": {},
   "source": [
    "Grados de libertad por nodo:"
   ]
  },
  {
   "cell_type": "code",
   "execution_count": 4,
   "id": "1a4c8fc6",
   "metadata": {},
   "outputs": [],
   "source": [
    "glxn = 2"
   ]
  },
  {
   "cell_type": "markdown",
   "id": "dcbe15ce",
   "metadata": {},
   "source": [
    "Módulo elástico y área de cada elemento:"
   ]
  },
  {
   "cell_type": "code",
   "execution_count": 5,
   "id": "abd00ecd",
   "metadata": {},
   "outputs": [],
   "source": [
    "E = 2.1E11*np.ones(5)\n",
    "A = np.array([10, 10, 20, 10, 10])*1E-4"
   ]
  },
  {
   "cell_type": "markdown",
   "id": "9275cf9d",
   "metadata": {},
   "source": [
    "Condiciones de vínculo:"
   ]
  },
  {
   "cell_type": "code",
   "execution_count": 6,
   "id": "656ad6ad",
   "metadata": {},
   "outputs": [],
   "source": [
    "s = np.array([0, 1, 5])\n",
    "Us = np.array([0, 0, 0]).reshape([-1, 1])\n",
    "\n",
    "r = np.array([2, 3, 4, 6, 7])\n",
    "Fr = np.array([0, -20000, 0, 0, 0]).reshape([-1, 1])"
   ]
  },
  {
   "cell_type": "markdown",
   "id": "491c9920",
   "metadata": {},
   "source": [
    "## Resolución\n",
    "Armado de la matriz K:"
   ]
  },
  {
   "cell_type": "code",
   "execution_count": 7,
   "id": "b1c2e1bf",
   "metadata": {
    "tags": []
   },
   "outputs": [],
   "source": [
    "Nn = MN.shape[0]\n",
    "Ne, Nnxe = MC.shape"
   ]
  },
  {
   "cell_type": "code",
   "execution_count": 8,
   "id": "6ac85d90",
   "metadata": {},
   "outputs": [],
   "source": [
    "Ke = {}\n",
    "archivo = 'Prob_02_Kg.txt'\n",
    "with open(archivo, 'w') as f:\n",
    "    f.write('Matriz Global\\n=================================================================')"
   ]
  },
  {
   "cell_type": "code",
   "execution_count": 9,
   "id": "697cc2da",
   "metadata": {},
   "outputs": [],
   "source": [
    "K = mef.Kglobal(MN, MC, E, A, glxn)"
   ]
  },
  {
   "cell_type": "code",
   "execution_count": 10,
   "id": "1d35f76b",
   "metadata": {},
   "outputs": [],
   "source": [
    "fe = np.abs(K.max())\n",
    "with open(archivo, 'a') as f:\n",
    "    f.write(f'\\nMatriz Global, fe = {fe:4e}\\n')\n",
    "    f.write(f'{K/fe}\\n')"
   ]
  },
  {
   "cell_type": "markdown",
   "id": "506fad51",
   "metadata": {},
   "source": [
    "Solución del problema:"
   ]
  },
  {
   "cell_type": "code",
   "execution_count": 11,
   "id": "0e73b2b2",
   "metadata": {},
   "outputs": [],
   "source": [
    "F, U = mef.solve(K, r, Fr, s, Us)"
   ]
  },
  {
   "cell_type": "code",
   "execution_count": 12,
   "id": "0409f896",
   "metadata": {},
   "outputs": [
    {
     "name": "stdout",
     "output_type": "stream",
     "text": [
      "\u001b[1m \u001b[33m    Nodo 1 \u001b[0m   Ux = 0.000 mm     Uy =  0.000 mm     Fx = 0.0 kN     Fy =  10.0 kN\n",
      "\u001b[1m \u001b[33m    Nodo 2 \u001b[0m   Ux = 0.762 mm     Uy = -3.844 mm     Fx = 0.0 kN     Fy = -20.0 kN\n",
      "\u001b[1m \u001b[33m    Nodo 3 \u001b[0m   Ux = 1.524 mm     Uy =  0.000 mm     Fx = 0.0 kN     Fy =  10.0 kN\n",
      "\u001b[1m \u001b[33m    Nodo 4 \u001b[0m   Ux = 0.762 mm     Uy = -3.653 mm     Fx = 0.0 kN     Fy =   0.0 kN\n"
     ]
    }
   ],
   "source": [
    "for nodo in range(Nn):\n",
    "    print('\\033[1m \\033[33m    Nodo %s \\033[0m   Ux = %2.3f mm     Uy = %6.3f mm     Fx = %3.1f kN     Fy = %5.1f kN'%(nodo+1, U[2*nodo]*1000, U[2*nodo+1]*1000, F[2*nodo]/1000, F[2*nodo+1]/1000))"
   ]
  }
 ],
 "metadata": {
  "kernelspec": {
   "display_name": "Python 3 (ipykernel)",
   "language": "python",
   "name": "python3"
  },
  "language_info": {
   "codemirror_mode": {
    "name": "ipython",
    "version": 3
   },
   "file_extension": ".py",
   "mimetype": "text/x-python",
   "name": "python",
   "nbconvert_exporter": "python",
   "pygments_lexer": "ipython3",
   "version": "3.9.12"
  }
 },
 "nbformat": 4,
 "nbformat_minor": 5
}
