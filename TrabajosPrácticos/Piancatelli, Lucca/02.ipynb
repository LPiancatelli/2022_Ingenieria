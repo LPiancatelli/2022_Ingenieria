{
 "cells": [
  {
   "cell_type": "markdown",
   "id": "fdc1fdca-2488-476b-88dd-e31a5bbb0c07",
   "metadata": {},
   "source": [
    "$$\n",
    "\\large \\textbf{Problema 02}\n",
    "$$"
   ]
  },
  {
   "cell_type": "markdown",
   "id": "23c6e3a0-29e3-4030-9045-1e2896cdaa1f",
   "metadata": {},
   "source": [
    "Considere el entramado mostrado en la figura, con una fuerza aplicada de $20\\:kN$. Calcule los desplazamientos de cada uno de los nodos y las tensiones que sufre cada elemento. Todos los elementos tienen $E=210\\:GPa$ y una sección de $10\\:cm^2$, excepto el elemento 3, que tiene una sección de $20\\:cm^2$. Los elementos 2 y 5 tienen una longitud de $8\\:m$ y el elemento 3 de $4\\:m$.\n",
    "<center><img src=\"ImgProb02.png\"></center>\n",
    "\n",
    "***"
   ]
  },
  {
   "cell_type": "code",
   "execution_count": 1,
   "id": "2108e456-7b49-4ecf-a65d-409d61515b49",
   "metadata": {
    "tags": []
   },
   "outputs": [],
   "source": [
    "import mef\n",
    "import numpy as np"
   ]
  },
  {
   "cell_type": "markdown",
   "id": "8c47b49d-1421-4a55-8b7f-ea40bd1adf3b",
   "metadata": {
    "tags": []
   },
   "source": [
    "## Datos del problema\n",
    "Grados de libertad por nodo:"
   ]
  },
  {
   "cell_type": "code",
   "execution_count": 2,
   "id": "ee8396c6-1596-4f47-b279-fc738f5d1500",
   "metadata": {},
   "outputs": [],
   "source": [
    "glxn = 2"
   ]
  },
  {
   "cell_type": "markdown",
   "id": "b053aec0-d222-455e-bfd2-221ee96af086",
   "metadata": {},
   "source": [
    "Matriz de nodos:"
   ]
  },
  {
   "cell_type": "code",
   "execution_count": 3,
   "id": "735da905-5a18-4a68-849a-166037befa45",
   "metadata": {
    "tags": []
   },
   "outputs": [],
   "source": [
    "MN = np.array([[0, 0, 0],\n",
    "               [8, 0, 0],\n",
    "               [16, 0, 0],\n",
    "               [8, 4, 0]])\n",
    "Nn = MN.shape[0]"
   ]
  },
  {
   "cell_type": "markdown",
   "id": "c92c3c03-6b98-4f49-b107-80203e812dc9",
   "metadata": {},
   "source": [
    "Matriz de conectividad:"
   ]
  },
  {
   "cell_type": "code",
   "execution_count": 4,
   "id": "07a5226a-321d-4f82-ae4e-7fafaa8df264",
   "metadata": {},
   "outputs": [],
   "source": [
    "MC = np.array([[0, 3],\n",
    "               [0, 1],\n",
    "               [1, 3],\n",
    "               [2, 3],\n",
    "               [1, 2]])\n",
    "Ne, Nnxe = MC.shape"
   ]
  },
  {
   "cell_type": "markdown",
   "id": "395e9358-776c-434a-9850-303b3344648e",
   "metadata": {},
   "source": [
    "Módulo elástico y área de cada elemento:"
   ]
  },
  {
   "cell_type": "code",
   "execution_count": 5,
   "id": "028b90ff-43b5-400a-bef5-c56cd99bb180",
   "metadata": {},
   "outputs": [],
   "source": [
    "E = 2.1E11*np.ones(5)\n",
    "A = np.array([10, 10, 20, 10, 10])*1E-4"
   ]
  },
  {
   "cell_type": "markdown",
   "id": "f2e0f8a9-38ff-4f17-921b-763e5586c561",
   "metadata": {},
   "source": [
    "Condiciones de vínculo:"
   ]
  },
  {
   "cell_type": "code",
   "execution_count": 6,
   "id": "4e3a381f-cee9-479f-ab8b-909744190ac4",
   "metadata": {},
   "outputs": [],
   "source": [
    "s = np.array([0, 1, 5])\n",
    "Us = np.array([0, 0, 0]).reshape([-1, 1])\n",
    "\n",
    "r = np.array([i for i in range(glxn*Nn) if i not in s])\n",
    "Fr = np.array([0, -20000, 0, 0, 0]).reshape([-1, 1])"
   ]
  },
  {
   "cell_type": "markdown",
   "id": "178aa7c3-c598-41a1-8431-de2f2c2203ac",
   "metadata": {},
   "source": [
    "## Resolución\n",
    "Armado de la matriz K:"
   ]
  },
  {
   "cell_type": "code",
   "execution_count": 7,
   "id": "527e9dc4-bc23-45d7-8f97-feaa3ec78925",
   "metadata": {},
   "outputs": [],
   "source": [
    "def Kelemental(MN, MC, Ee, Ae, e):\n",
    "    \"\"\"\n",
    "    INPUTS:\n",
    "      MN = Matriz de nodos\n",
    "      MC = Matriz de conectividad\n",
    "      Ee = Módulo elástico del elemento\n",
    "      Ae = Sección del elemento\n",
    "      e  = Número de elemento\n",
    "    OUTPUTS:\n",
    "      Ke = Matriz K elemental\n",
    "    \"\"\"\n",
    "    Lx = MN[MC[e, 1], 0]-MN[MC[e, 0], 0]\n",
    "    Ly = MN[MC[e, 1], 1]-MN[MC[e, 0], 1]\n",
    "    L = np.sqrt(Lx**2+Ly**2)\n",
    "    phi = np.arctan2(Ly, Lx)\n",
    "    cos = np.cos(phi)\n",
    "    sin = np.sin(phi)\n",
    "    Ke = (Ee*Ae/L)*np.array([[cos**2, cos*sin, -cos**2, -cos*sin],\n",
    "                             [cos*sin, sin**2, -cos*sin, -sin**2],\n",
    "                             [-cos**2, -cos*sin, cos**2, cos*sin],\n",
    "                             [-cos*sin, -sin**2, cos*sin, sin**2]])\n",
    "    Ke[np.abs(Ke/Ke.max()) < 1E-15] = 0\n",
    "    return Ke"
   ]
  },
  {
   "cell_type": "code",
   "execution_count": 8,
   "id": "709ad2f1-3332-49a4-b455-788395523490",
   "metadata": {},
   "outputs": [],
   "source": [
    "def Kglobal(MN, MC, E, A, glxn):\n",
    "    \"\"\"\n",
    "    INPUTS:\n",
    "      MN   = Matriz de nodos\n",
    "      MC   = Matriz de conectividad\n",
    "      E    = Vector de módulos elásticos de cada elemento\n",
    "      A    = Vector de secciones de cada elemento\n",
    "      glxn = Grados de libertad por nodo\n",
    "    OUTPUTS:\n",
    "      Kg = Matriz K global\n",
    "    \"\"\"\n",
    "\n",
    "    Ke = {}\n",
    "    file1 = 'Ke.txt'\n",
    "    with open(file1, 'w') as f:\n",
    "        f.write('Matrices elementales\\n=================================================')\n",
    "    file2 = 'Kg.txt'\n",
    "    with open(file2, 'w') as f:\n",
    "        f.write('Matriz global\\n=================================================')\n",
    "\n",
    "    Nn = MN.shape[0]\n",
    "    Ne, Nnxe = MC.shape\n",
    "    Kg = np.zeros([glxn*Nn, glxn*Nn])\n",
    "    for e in range(Ne):\n",
    "        Ee = E[e]\n",
    "        Ae = A[e]\n",
    "\n",
    "        Ke = Kelemental(MN, MC, Ee, Ae, e)\n",
    "\n",
    "        fe = np.abs(Ke.max())\n",
    "        with open(file1, 'a') as f:\n",
    "            f.write(f'\\nMatriz elemental {e}, fe ={fe:4e}\\n')\n",
    "            f.write(f'{Ke/fe}\\n')\n",
    "\n",
    "        for i in range(Nnxe):\n",
    "            rangoi = np.linspace(i*glxn, (i+1)*glxn-1, Nnxe).astype(int)\n",
    "            rangoni = np.linspace(MC[e, i]*glxn, (MC[e, i]+1)*glxn-1, Nnxe).astype(int)\n",
    "            for j in range(Nnxe):\n",
    "                rangoj = np.linspace(j*glxn, (j+1)*glxn-1, Nnxe).astype(int)\n",
    "                rangonj = np.linspace(MC[e, j]*glxn, (MC[e, j]+1)*glxn-1, Nnxe).astype(int)\n",
    "                Kg[np.ix_(rangoni, rangonj)] += Ke[np.ix_(rangoi, rangoj)]\n",
    "\n",
    "    fe = np.abs(Kg.max())\n",
    "    with open(file2, 'a') as f:\n",
    "        f.write(f'\\nMatriz global, fe ={fe:4e}\\n')\n",
    "        f.write(f'{Kg/fe}\\n')\n",
    "    return Kg"
   ]
  },
  {
   "cell_type": "code",
   "execution_count": 9,
   "id": "950bea5a-3684-4b29-8db0-0b1e4d2c439e",
   "metadata": {},
   "outputs": [],
   "source": [
    "K = Kglobal(MN, MC, E, A, glxn)"
   ]
  },
  {
   "cell_type": "markdown",
   "id": "db1524c3-38fe-48fe-8bef-fbeae7dc47c0",
   "metadata": {},
   "source": [
    "Solución del problema:"
   ]
  },
  {
   "cell_type": "code",
   "execution_count": 10,
   "id": "4d0c761f-24b2-4fd6-8c60-8edbb0ddf6a3",
   "metadata": {},
   "outputs": [],
   "source": [
    "F, U = mef.solve(K, r, Fr, s, Us)"
   ]
  },
  {
   "cell_type": "code",
   "execution_count": 11,
   "id": "65581640-8a12-433c-a46d-37e6c3b61bd8",
   "metadata": {
    "tags": []
   },
   "outputs": [
    {
     "name": "stdout",
     "output_type": "stream",
     "text": [
      "\u001b[1m \u001b[33m    Nodo 1 \u001b[0m   Ux = 0.000 mm     Uy =  0.000 mm     Fx = 0.0 kN     Fy =  10.0 kN\n",
      "\u001b[1m \u001b[33m    Nodo 2 \u001b[0m   Ux = 0.762 mm     Uy = -3.844 mm     Fx = 0.0 kN     Fy = -20.0 kN\n",
      "\u001b[1m \u001b[33m    Nodo 3 \u001b[0m   Ux = 1.524 mm     Uy =  0.000 mm     Fx = 0.0 kN     Fy =  10.0 kN\n",
      "\u001b[1m \u001b[33m    Nodo 4 \u001b[0m   Ux = 0.762 mm     Uy = -3.653 mm     Fx = 0.0 kN     Fy =   0.0 kN\n"
     ]
    }
   ],
   "source": [
    "for nodo in range(Nn):\n",
    "    print('\\033[1m \\033[33m    Nodo %s \\033[0m   Ux = %2.3f mm     Uy = %6.3f mm     Fx = %3.1f kN     Fy = %5.1f kN' % (nodo+1, U[2*nodo]*1000, U[2*nodo+1]*1000, F[2*nodo]/1000, F[2*nodo+1]/1000))"
   ]
  }
 ],
 "metadata": {
  "kernelspec": {
   "display_name": "Python 3 (ipykernel)",
   "language": "python",
   "name": "python3"
  },
  "language_info": {
   "codemirror_mode": {
    "name": "ipython",
    "version": 3
   },
   "file_extension": ".py",
   "mimetype": "text/x-python",
   "name": "python",
   "nbconvert_exporter": "python",
   "pygments_lexer": "ipython3",
   "version": "3.9.10"
  }
 },
 "nbformat": 4,
 "nbformat_minor": 5
}
