{
 "cells": [
  {
   "cell_type": "markdown",
   "id": "fdc1fdca-2488-476b-88dd-e31a5bbb0c07",
   "metadata": {},
   "source": [
    "$$\n",
    "\\large \\textbf{Problema 02}\n",
    "$$"
   ]
  },
  {
   "cell_type": "markdown",
   "id": "23c6e3a0-29e3-4030-9045-1e2896cdaa1f",
   "metadata": {},
   "source": [
    "Considere el entramado mostrado en la figura, con una fuerza aplicada de $20\\:kN$. Calcule los desplazamientos de cada uno de los nodos y las tensiones que sufre cada elemento. Todos los elementos tienen $E=210\\:GPa$ y una sección de $10\\:cm^2$, excepto el elemento 3, que tiene una sección de $20\\:cm^2$. Los elementos 2 y 5 tienen una longitud de $8\\:m$ y el elemento 3 de $4\\:m$.\n",
    "<center><img src=\"ImgProb02.png\"></center>\n",
    "\n",
    "***"
   ]
  },
  {
   "cell_type": "code",
   "execution_count": 1,
   "id": "2108e456-7b49-4ecf-a65d-409d61515b49",
   "metadata": {
    "tags": []
   },
   "outputs": [],
   "source": [
    "import mef\n",
    "import numpy as np\n",
    "import matplotlib.pyplot as plt   # Librería de gráficos\n",
    "plt.rc('figure', figsize=(10,7))\n",
    "plt.rc('font', size=14)"
   ]
  },
  {
   "cell_type": "markdown",
   "id": "8c47b49d-1421-4a55-8b7f-ea40bd1adf3b",
   "metadata": {
    "tags": []
   },
   "source": [
    "## Datos del problema\n",
    "Grados de libertad por nodo:"
   ]
  },
  {
   "cell_type": "code",
   "execution_count": 2,
   "id": "ee8396c6-1596-4f47-b279-fc738f5d1500",
   "metadata": {},
   "outputs": [],
   "source": [
    "glxn = 2"
   ]
  },
  {
   "cell_type": "markdown",
   "id": "b053aec0-d222-455e-bfd2-221ee96af086",
   "metadata": {},
   "source": [
    "Matriz de nodos:"
   ]
  },
  {
   "cell_type": "code",
   "execution_count": 3,
   "id": "735da905-5a18-4a68-849a-166037befa45",
   "metadata": {
    "tags": []
   },
   "outputs": [],
   "source": [
    "MN = np.array([[0, 0, 0],\n",
    "               [8, 0, 0],\n",
    "               [16, 0, 0],\n",
    "               [8, 4, 0]])\n",
    "Nn = MN.shape[0]"
   ]
  },
  {
   "cell_type": "markdown",
   "id": "c92c3c03-6b98-4f49-b107-80203e812dc9",
   "metadata": {},
   "source": [
    "Matriz de conectividad:"
   ]
  },
  {
   "cell_type": "code",
   "execution_count": 4,
   "id": "07a5226a-321d-4f82-ae4e-7fafaa8df264",
   "metadata": {},
   "outputs": [],
   "source": [
    "MC = np.array([[0, 3],\n",
    "               [0, 1],\n",
    "               [1, 3],\n",
    "               [2, 3],\n",
    "               [1, 2]])\n",
    "Ne, Nnxe = MC.shape"
   ]
  },
  {
   "cell_type": "markdown",
   "id": "395e9358-776c-434a-9850-303b3344648e",
   "metadata": {},
   "source": [
    "Módulo elástico y área de cada elemento:"
   ]
  },
  {
   "cell_type": "code",
   "execution_count": 5,
   "id": "028b90ff-43b5-400a-bef5-c56cd99bb180",
   "metadata": {},
   "outputs": [],
   "source": [
    "E = 2.1E11*np.ones(5)\n",
    "A = np.array([10, 10, 20, 10, 10])*1E-4"
   ]
  },
  {
   "cell_type": "markdown",
   "id": "f2e0f8a9-38ff-4f17-921b-763e5586c561",
   "metadata": {},
   "source": [
    "Condiciones de vínculo:"
   ]
  },
  {
   "cell_type": "code",
   "execution_count": 6,
   "id": "4e3a381f-cee9-479f-ab8b-909744190ac4",
   "metadata": {},
   "outputs": [],
   "source": [
    "s = np.array([0, 1, 5])\n",
    "Us = np.array([0, 0, 0]).reshape([-1, 1])\n",
    "\n",
    "r = np.array([i for i in range(glxn*Nn) if i not in s])\n",
    "Fr = np.array([0, -20000, 0, 0, 0]).reshape([-1, 1])"
   ]
  },
  {
   "cell_type": "markdown",
   "id": "178aa7c3-c598-41a1-8431-de2f2c2203ac",
   "metadata": {
    "tags": []
   },
   "source": [
    "## Resolución"
   ]
  },
  {
   "cell_type": "code",
   "execution_count": 7,
   "id": "950bea5a-3684-4b29-8db0-0b1e4d2c439e",
   "metadata": {},
   "outputs": [],
   "source": [
    "K = mef.Kglobal(MN, MC, E, A, glxn)"
   ]
  },
  {
   "cell_type": "code",
   "execution_count": 8,
   "id": "4d0c761f-24b2-4fd6-8c60-8edbb0ddf6a3",
   "metadata": {},
   "outputs": [],
   "source": [
    "F, U = mef.solve(K, r, Fr, s, Us)"
   ]
  },
  {
   "cell_type": "code",
   "execution_count": 10,
   "id": "d2cd53c7-34ad-470d-aa97-0df1ccdad7f1",
   "metadata": {},
   "outputs": [],
   "source": [
    "UD = U.reshape(Nn, glxn)\n",
    "MND = MN[:, :2] + UD\n",
    "sig = np.zeros([Ne, 1])\n",
    "for e in range(Ne):\n",
    "    Lo = np.sqrt((MN[MC[e, 1], 0]-MN[MC[e, 0], 0])**2+(MN[MC[e, 1], 1]-MN[MC[e, 0], 1])**2)\n",
    "    Lf = np.sqrt((MND[MC[e, 1], 0]-MND[MC[e, 0], 0])**2+(MND[MC[e, 1], 1]-MND[MC[e, 0], 1])**2)\n",
    "    dL = Lf-Lo\n",
    "    sig[e] = E[e]*dL"
   ]
  },
  {
   "cell_type": "code",
   "execution_count": 21,
   "id": "c9112621-f1a3-4ccf-a98a-a74043dbea4e",
   "metadata": {},
   "outputs": [
    {
     "name": "stdout",
     "output_type": "stream",
     "text": [
      "\n",
      "\u001b[1m Desplazamientos y fuerzas en cada nodo: \u001b[0m\n",
      "\u001b[1m \u001b[33m    Nodo 1 \u001b[0m   Ux = 0.000 mm     Uy =  0.000 mm     Fx = 0.0 kN     Fy =  10.0 kN\n",
      "\u001b[1m \u001b[33m    Nodo 2 \u001b[0m   Ux = 0.762 mm     Uy = -3.844 mm     Fx = 0.0 kN     Fy = -20.0 kN\n",
      "\u001b[1m \u001b[33m    Nodo 3 \u001b[0m   Ux = 1.524 mm     Uy =  0.000 mm     Fx = 0.0 kN     Fy =  10.0 kN\n",
      "\u001b[1m \u001b[33m    Nodo 4 \u001b[0m   Ux = 0.762 mm     Uy = -3.653 mm     Fx = 0.0 kN     Fy =   0.0 kN\n",
      "\n",
      "\u001b[1m Tensiones en cada elemento: \u001b[0m\n",
      "\u001b[1m \u001b[33m    Elem 1 \u001b[0m   R = -199.85 MPa\n",
      "\u001b[1m \u001b[33m    Elem 2 \u001b[0m   R =  160.19 MPa\n",
      "\u001b[1m \u001b[33m    Elem 3 \u001b[0m   R =   40.00 MPa\n",
      "\u001b[1m \u001b[33m    Elem 4 \u001b[0m   R = -199.85 MPa\n",
      "\u001b[1m \u001b[33m    Elem 5 \u001b[0m   R =  160.19 MPa\n"
     ]
    }
   ],
   "source": [
    "print()\n",
    "print('\\033[1m Desplazamientos y fuerzas en cada nodo: \\033[0m')\n",
    "for nodo in range(Nn):\n",
    "    print('\\033[1m \\033[33m    Nodo %s \\033[0m   Ux = %2.3f mm     Uy = %6.3f mm     Fx = %3.1f kN     Fy = %5.1f kN' % (nodo+1, U[2*nodo]*1000, U[2*nodo+1]*1000, F[2*nodo]/1000, F[2*nodo+1]/1000))\n",
    "print()\n",
    "print('\\033[1m Tensiones en cada elemento: \\033[0m')\n",
    "for elemento in range(Ne):\n",
    "    print('\\033[1m \\033[33m    Elem %s \\033[0m   R = %7.2f MPa' % (elemento+1, sig[elemento]*1E-6))"
   ]
  },
  {
   "cell_type": "markdown",
   "id": "422882c1-ab93-4443-9e2f-fafbb4059a58",
   "metadata": {},
   "source": [
    "## Gráfico"
   ]
  },
  {
   "cell_type": "code",
   "execution_count": 12,
   "id": "28246c52-786e-4501-84c9-582bef9fdd9d",
   "metadata": {},
   "outputs": [
    {
     "data": {
      "image/png": "[encoded data removed]",
      "text/plain": [
       "<Figure size 720x504 with 1 Axes>"
      ]
     },
     "metadata": {
      "needs_background": "light"
     },
     "output_type": "display_data"
    }
   ],
   "source": [
    "DXY = np.reshape(U, (len(MN), 2))\n",
    "MND = MN[:, :2] + DXY*100\n",
    "fig, ax = plt.subplots()\n",
    "for L in MC:\n",
    "    ax.plot(MN[L, 0], MN[L, 1], '-ok', ms=9)\n",
    "    ax.plot(MND[L, 0], MND[L, 1], '-ob', ms=9)\n",
    "plt.xlabel('x (m)')\n",
    "plt.ylabel('y (m)')\n",
    "plt.title('Nota: Desplazamientos escaleados *100')\n",
    "plt.show()"
   ]
  }
 ],
 "metadata": {
  "kernelspec": {
   "display_name": "Python 3 (ipykernel)",
   "language": "python",
   "name": "python3"
  },
  "language_info": {
   "codemirror_mode": {
    "name": "ipython",
    "version": 3
   },
   "file_extension": ".py",
   "mimetype": "text/x-python",
   "name": "python",
   "nbconvert_exporter": "python",
   "pygments_lexer": "ipython3",
   "version": "3.9.10"
  }
 },
 "nbformat": 4,
 "nbformat_minor": 5
}
